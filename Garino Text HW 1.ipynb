{
 "cells": [
  {
   "cell_type": "code",
   "execution_count": 1,
   "metadata": {
    "collapsed": false
   },
   "outputs": [
    {
     "name": "stdout",
     "output_type": "stream",
     "text": [
      "Populating the interactive namespace from numpy and matplotlib\n"
     ]
    }
   ],
   "source": [
    "import pandas as pd\n",
    "from pandas import Series\n",
    "from pandas import DataFrame\n",
    "import numpy as np\n",
    "%pylab inline\n",
    "import nltk\n",
    "from nltk import bigrams\n",
    "from nltk import word_tokenize\n",
    "from nltk import punkt\n",
    "from nltk.corpus import stopwords\n",
    "from nltk.stem.wordnet import WordNetLemmatizer\n",
    "import matplotlib.pyplot as plt\n",
    "import re\n"
   ]
  },
  {
   "cell_type": "code",
   "execution_count": 2,
   "metadata": {
    "collapsed": false
   },
   "outputs": [],
   "source": [
    "salary_data = pd.read_csv(\"Train_rev1.csv\")"
   ]
  },
  {
   "cell_type": "code",
   "execution_count": 3,
   "metadata": {
    "collapsed": false
   },
   "outputs": [],
   "source": [
    "jobdescriptions = salary_data[\"FullDescription\"][0:1000]\n",
    "jobdescriptions = jobdescriptions.str.decode(\"utf-8\")\n",
    "clean_jobdescriptions = []\n",
    "for desc in jobdescriptions:\n",
    "    clean_jobdescriptions.append(desc)\n",
    "clean_jobdescriptions2 = \" \".join(clean_jobdescriptions)"
   ]
  },
  {
   "cell_type": "code",
   "execution_count": 4,
   "metadata": {
    "collapsed": false
   },
   "outputs": [],
   "source": [
    "tokens = nltk.word_tokenize(clean_jobdescriptions2)"
   ]
  },
  {
   "cell_type": "code",
   "execution_count": 83,
   "metadata": {
    "collapsed": false
   },
   "outputs": [
    {
     "data": {
      "text/plain": [
       "[u'Engineering',\n",
       " u'Systems',\n",
       " u'Analyst',\n",
       " u'Dorking',\n",
       " u'Surrey',\n",
       " u'Salary',\n",
       " u'****K',\n",
       " u'Our',\n",
       " u'client',\n",
       " u'is']"
      ]
     },
     "execution_count": 83,
     "metadata": {},
     "output_type": "execute_result"
    }
   ],
   "source": [
    "tokens[:10]"
   ]
  },
  {
   "cell_type": "code",
   "execution_count": 6,
   "metadata": {
    "collapsed": false
   },
   "outputs": [],
   "source": [
    "pos_tags = nltk.pos_tag(tokens)"
   ]
  },
  {
   "cell_type": "code",
   "execution_count": 7,
   "metadata": {
    "collapsed": false
   },
   "outputs": [],
   "source": [
    "pos_list = [tag[1] for tag in pos_tags]"
   ]
  },
  {
   "cell_type": "code",
   "execution_count": 84,
   "metadata": {
    "collapsed": false
   },
   "outputs": [
    {
     "data": {
      "text/plain": [
       "['VBG', 'NNP', 'NNP', 'NNP', 'NNP', 'NNP', 'NNP', 'PRP$', 'NN', 'VBZ']"
      ]
     },
     "execution_count": 84,
     "metadata": {},
     "output_type": "execute_result"
    }
   ],
   "source": [
    "pos_list[:10]"
   ]
  },
  {
   "cell_type": "code",
   "execution_count": 9,
   "metadata": {
    "collapsed": false
   },
   "outputs": [
    {
     "data": {
      "text/plain": [
       "NN     35686\n",
       "NNP    30762\n",
       "IN     22677\n",
       "JJ     18051\n",
       "DT     16998\n",
       "dtype: int64"
      ]
     },
     "execution_count": 9,
     "metadata": {},
     "output_type": "execute_result"
    }
   ],
   "source": [
    "Series(pos_list).value_counts()[:5]"
   ]
  },
  {
   "cell_type": "markdown",
   "metadata": {},
   "source": [
    "# A2"
   ]
  },
  {
   "cell_type": "code",
   "execution_count": 10,
   "metadata": {
    "collapsed": true
   },
   "outputs": [],
   "source": [
    "words = [word[0].lower() for word in pos_tags]\n",
    "words = Series(words)"
   ]
  },
  {
   "cell_type": "code",
   "execution_count": 86,
   "metadata": {
    "collapsed": false
   },
   "outputs": [
    {
     "data": {
      "text/plain": [
       "0    engineering\n",
       "1        systems\n",
       "2        analyst\n",
       "3        dorking\n",
       "4         surrey\n",
       "5         salary\n",
       "6          ****k\n",
       "7            our\n",
       "8         client\n",
       "9             is\n",
       "dtype: object"
      ]
     },
     "execution_count": 86,
     "metadata": {},
     "output_type": "execute_result"
    }
   ],
   "source": [
    "words[:10]"
   ]
  },
  {
   "cell_type": "code",
   "execution_count": 12,
   "metadata": {
    "collapsed": true
   },
   "outputs": [],
   "source": [
    "mask = [word.isalpha() for word in words]"
   ]
  },
  {
   "cell_type": "code",
   "execution_count": 88,
   "metadata": {
    "collapsed": false
   },
   "outputs": [
    {
     "data": {
      "text/plain": [
       "[True, True, True, True, True, True, False, True, True, True]"
      ]
     },
     "execution_count": 88,
     "metadata": {},
     "output_type": "execute_result"
    }
   ],
   "source": [
    "mask[:10]"
   ]
  },
  {
   "cell_type": "code",
   "execution_count": 14,
   "metadata": {
    "collapsed": true
   },
   "outputs": [],
   "source": [
    "cleanwords = words[mask]"
   ]
  },
  {
   "cell_type": "code",
   "execution_count": null,
   "metadata": {
    "collapsed": true
   },
   "outputs": [],
   "source": []
  },
  {
   "cell_type": "code",
   "execution_count": 89,
   "metadata": {
    "collapsed": false
   },
   "outputs": [
    {
     "data": {
      "text/plain": [
       "0     engineering\n",
       "1         systems\n",
       "2         analyst\n",
       "3         dorking\n",
       "4          surrey\n",
       "5          salary\n",
       "7             our\n",
       "8          client\n",
       "9              is\n",
       "10        located\n",
       "dtype: object"
      ]
     },
     "execution_count": 89,
     "metadata": {},
     "output_type": "execute_result"
    }
   ],
   "source": [
    "cleanwords[:10]"
   ]
  },
  {
   "cell_type": "code",
   "execution_count": 90,
   "metadata": {
    "collapsed": false
   },
   "outputs": [
    {
     "data": {
      "text/plain": [
       "[8435, 7121, 6677, 5812, 4547, 4229, 3450, 3033, 2652, 2469]"
      ]
     },
     "execution_count": 90,
     "metadata": {},
     "output_type": "execute_result"
    }
   ],
   "source": [
    "frequencies = list(cleanwords.value_counts()[:100])\n",
    "frequencies[:10]"
   ]
  },
  {
   "cell_type": "code",
   "execution_count": 91,
   "metadata": {
    "collapsed": false
   },
   "outputs": [
    {
     "data": {
      "text/plain": [
       "[1, 2, 3, 4, 5, 6, 7, 8, 9, 10]"
      ]
     },
     "execution_count": 91,
     "metadata": {},
     "output_type": "execute_result"
    }
   ],
   "source": [
    "ranks = [rank+1 for rank in range(100)]\n",
    "ranks[:10]\n"
   ]
  },
  {
   "cell_type": "code",
   "execution_count": 18,
   "metadata": {
    "collapsed": false
   },
   "outputs": [
    {
     "data": {
      "text/plain": [
       "[<matplotlib.lines.Line2D at 0x119f9e9d0>]"
      ]
     },
     "execution_count": 18,
     "metadata": {},
     "output_type": "execute_result"
    },
    {
     "data": {
      "image/png": "[encoded data removed]",
      "text/plain": [
       "<matplotlib.figure.Figure at 0x121296410>"
      ]
     },
     "metadata": {},
     "output_type": "display_data"
    }
   ],
   "source": [
    "plt.plot(ranks, frequencies, 'ro', color=\"red\")"
   ]
  },
  {
   "cell_type": "code",
   "execution_count": 19,
   "metadata": {
    "collapsed": false
   },
   "outputs": [
    {
     "data": {
      "text/plain": [
       "[<matplotlib.lines.Line2D at 0x12279ffd0>]"
      ]
     },
     "execution_count": 19,
     "metadata": {},
     "output_type": "execute_result"
    },
    {
     "data": {
      "image/png": "[encoded data removed]",
      "text/plain": [
       "<matplotlib.figure.Figure at 0x1226ce1d0>"
      ]
     },
     "metadata": {},
     "output_type": "display_data"
    }
   ],
   "source": [
    "plt.plot([math.log(rank) for rank in ranks], [math.log(freq) for freq in frequencies], 'ro', color=\"black\")"
   ]
  },
  {
   "cell_type": "markdown",
   "metadata": {},
   "source": [
    "# A3"
   ]
  },
  {
   "cell_type": "code",
   "execution_count": 20,
   "metadata": {
    "collapsed": true
   },
   "outputs": [],
   "source": [
    "nostop = [w for w in cleanwords if not w in stopwords.words('english')]"
   ]
  },
  {
   "cell_type": "code",
   "execution_count": 21,
   "metadata": {
    "collapsed": false
   },
   "outputs": [],
   "source": [
    "lemmatizer = WordNetLemmatizer()\n",
    "nostoplemmatized = [lemmatizer.lemmatize(w) for w in nostop]"
   ]
  },
  {
   "cell_type": "code",
   "execution_count": 22,
   "metadata": {
    "collapsed": false
   },
   "outputs": [],
   "source": [
    "nostoplemmatized = Series(nostoplemmatized)"
   ]
  },
  {
   "cell_type": "code",
   "execution_count": 24,
   "metadata": {
    "collapsed": false
   },
   "outputs": [
    {
     "data": {
      "text/plain": [
       "care          3060\n",
       "home          2117\n",
       "experience    1366\n",
       "manager       1276\n",
       "nurse         1266\n",
       "work          1201\n",
       "nursing       1180\n",
       "support       1093\n",
       "within        1040\n",
       "working        965\n",
       "dtype: int64"
      ]
     },
     "execution_count": 24,
     "metadata": {},
     "output_type": "execute_result"
    }
   ],
   "source": [
    "nostoplemmatized.value_counts()[:10]"
   ]
  },
  {
   "cell_type": "code",
   "execution_count": 92,
   "metadata": {
    "collapsed": false
   },
   "outputs": [
    {
     "data": {
      "text/plain": [
       "0    engineering\n",
       "1         system\n",
       "2        analyst\n",
       "3        dorking\n",
       "4         surrey\n",
       "5         salary\n",
       "6         client\n",
       "7        located\n",
       "8        dorking\n",
       "9         surrey\n",
       "dtype: object"
      ]
     },
     "execution_count": 92,
     "metadata": {},
     "output_type": "execute_result"
    }
   ],
   "source": [
    "nostoplemmatized[:10]"
   ]
  },
  {
   "cell_type": "markdown",
   "metadata": {},
   "source": [
    "# B1"
   ]
  },
  {
   "cell_type": "code",
   "execution_count": 25,
   "metadata": {
    "collapsed": true
   },
   "outputs": [],
   "source": [
    "\n",
    "import random\n",
    "from sklearn.naive_bayes import MultinomialNB\n",
    "from sklearn.feature_extraction.text import TfidfVectorizer\n",
    "from sklearn import metrics\n",
    "from operator import itemgetter"
   ]
  },
  {
   "cell_type": "code",
   "execution_count": 94,
   "metadata": {
    "collapsed": false
   },
   "outputs": [],
   "source": [
    "np.random.seed(1234567890)\n",
    "salaries = salary_data['SalaryNormalized']\n",
    "threshold = np.percentile(salaries, 75)\n"
   ]
  },
  {
   "cell_type": "code",
   "execution_count": null,
   "metadata": {
    "collapsed": true
   },
   "outputs": [],
   "source": []
  },
  {
   "cell_type": "code",
   "execution_count": 27,
   "metadata": {
    "collapsed": true
   },
   "outputs": [],
   "source": [
    "salary_data['High'] = 0.0"
   ]
  },
  {
   "cell_type": "code",
   "execution_count": 28,
   "metadata": {
    "collapsed": true
   },
   "outputs": [],
   "source": [
    "High_Mask = salary_data['SalaryNormalized'] >= threshold"
   ]
  },
  {
   "cell_type": "code",
   "execution_count": 29,
   "metadata": {
    "collapsed": true
   },
   "outputs": [],
   "source": [
    "salary_data.ix[High_Mask,'High'] = 1"
   ]
  },
  {
   "cell_type": "code",
   "execution_count": 30,
   "metadata": {
    "collapsed": true
   },
   "outputs": [],
   "source": [
    "highsalary = salary_data[High_Mask]"
   ]
  },
  {
   "cell_type": "code",
   "execution_count": 31,
   "metadata": {
    "collapsed": false
   },
   "outputs": [],
   "source": [
    "sample_highsalary = highsalary.sample(7500, replace=False).copy()"
   ]
  },
  {
   "cell_type": "code",
   "execution_count": 32,
   "metadata": {
    "collapsed": false
   },
   "outputs": [
    {
     "data": {
      "text/html": [
       "<div>\n",
       "<table border=\"1\" class=\"dataframe\">\n",
       "  <thead>\n",
       "    <tr style=\"text-align: right;\">\n",
       "      <th></th>\n",
       "      <th>Id</th>\n",
       "      <th>Title</th>\n",
       "      <th>FullDescription</th>\n",
       "      <th>LocationRaw</th>\n",
       "      <th>LocationNormalized</th>\n",
       "      <th>ContractType</th>\n",
       "      <th>ContractTime</th>\n",
       "      <th>Company</th>\n",
       "      <th>Category</th>\n",
       "      <th>SalaryRaw</th>\n",
       "      <th>SalaryNormalized</th>\n",
       "      <th>SourceName</th>\n",
       "      <th>High</th>\n",
       "    </tr>\n",
       "  </thead>\n",
       "  <tbody>\n",
       "    <tr>\n",
       "      <th>573</th>\n",
       "      <td>46629484</td>\n",
       "      <td>Mental Health Pharmacist Band 7 Cheshire</td>\n",
       "      <td>PULSE Staffing has an opportunity available in...</td>\n",
       "      <td>Cheshire</td>\n",
       "      <td>Cheshire</td>\n",
       "      <td>full_time</td>\n",
       "      <td>NaN</td>\n",
       "      <td>NaN</td>\n",
       "      <td>Healthcare &amp; Nursing Jobs</td>\n",
       "      <td>22 to 27 per hour</td>\n",
       "      <td>47040</td>\n",
       "      <td>careworx.co.uk</td>\n",
       "      <td>1.0</td>\n",
       "    </tr>\n",
       "    <tr>\n",
       "      <th>107373</th>\n",
       "      <td>69597277</td>\n",
       "      <td>Chemicals Procurement Manager</td>\n",
       "      <td>Chemicals Procurement Manager  Fantastic Inter...</td>\n",
       "      <td>Cambridge Cambridgeshire East Anglia</td>\n",
       "      <td>UK</td>\n",
       "      <td>NaN</td>\n",
       "      <td>permanent</td>\n",
       "      <td>1st Executive Ltd</td>\n",
       "      <td>Other/General Jobs</td>\n",
       "      <td>45000 - 55000 per annum + Car, Bonus, Pension,...</td>\n",
       "      <td>50000</td>\n",
       "      <td>totaljobs.com</td>\n",
       "      <td>1.0</td>\n",
       "    </tr>\n",
       "    <tr>\n",
       "      <th>138386</th>\n",
       "      <td>70445011</td>\n",
       "      <td>SHO Acute Medicine  North West</td>\n",
       "      <td>SHO Acute Medicine Start date: ****/****/**** ...</td>\n",
       "      <td>North</td>\n",
       "      <td>North Finchley</td>\n",
       "      <td>NaN</td>\n",
       "      <td>contract</td>\n",
       "      <td>National Locums</td>\n",
       "      <td>Healthcare &amp; Nursing Jobs</td>\n",
       "      <td>48.00 - 53.00 GBP Hourly</td>\n",
       "      <td>96960</td>\n",
       "      <td>jobg8.com</td>\n",
       "      <td>1.0</td>\n",
       "    </tr>\n",
       "    <tr>\n",
       "      <th>137207</th>\n",
       "      <td>70384614</td>\n",
       "      <td>HEOR Manager  Strong line management position</td>\n",
       "      <td>My client, one of the most recognisable names ...</td>\n",
       "      <td>Hertfordshire</td>\n",
       "      <td>Hertfordshire</td>\n",
       "      <td>NaN</td>\n",
       "      <td>NaN</td>\n",
       "      <td>NonStop Pharma Recruitment</td>\n",
       "      <td>Scientific &amp; QA Jobs</td>\n",
       "      <td>75000 - 85000 per annum</td>\n",
       "      <td>80000</td>\n",
       "      <td>access-sciencejobs.co.uk</td>\n",
       "      <td>1.0</td>\n",
       "    </tr>\n",
       "    <tr>\n",
       "      <th>142799</th>\n",
       "      <td>70607718</td>\n",
       "      <td>Project Development Engineer</td>\n",
       "      <td>Operations Process  Project Development Engine...</td>\n",
       "      <td>Surrey</td>\n",
       "      <td>Surrey</td>\n",
       "      <td>NaN</td>\n",
       "      <td>permanent</td>\n",
       "      <td>Prime Time Recruitment</td>\n",
       "      <td>Engineering Jobs</td>\n",
       "      <td>35000 - 55000/annum Health Care</td>\n",
       "      <td>45000</td>\n",
       "      <td>cv-library.co.uk</td>\n",
       "      <td>1.0</td>\n",
       "    </tr>\n",
       "    <tr>\n",
       "      <th>167249</th>\n",
       "      <td>71305557</td>\n",
       "      <td>Programme Manager, Siebel, CRM, Oracle</td>\n",
       "      <td>Programme Manager, Siebel, CRM, Oracle My clie...</td>\n",
       "      <td>Central London / West End London South East</td>\n",
       "      <td>London</td>\n",
       "      <td>NaN</td>\n",
       "      <td>contract</td>\n",
       "      <td>Haybrook IT Resourcing Ltd</td>\n",
       "      <td>IT Jobs</td>\n",
       "      <td>Up to 540 per day</td>\n",
       "      <td>129600</td>\n",
       "      <td>cwjobs.co.uk</td>\n",
       "      <td>1.0</td>\n",
       "    </tr>\n",
       "    <tr>\n",
       "      <th>91290</th>\n",
       "      <td>69170682</td>\n",
       "      <td>Continous Improvement Manager</td>\n",
       "      <td>Continuous Improvement Manager Job description...</td>\n",
       "      <td>Milton Keynes Buckinghamshire South East</td>\n",
       "      <td>Milton Keynes</td>\n",
       "      <td>NaN</td>\n",
       "      <td>permanent</td>\n",
       "      <td>Synergi Search &amp; Selection</td>\n",
       "      <td>Retail Jobs</td>\n",
       "      <td>40000 - 45000 per annum + Benefits</td>\n",
       "      <td>42500</td>\n",
       "      <td>totaljobs.com</td>\n",
       "      <td>1.0</td>\n",
       "    </tr>\n",
       "    <tr>\n",
       "      <th>81452</th>\n",
       "      <td>69026323</td>\n",
       "      <td>Senior Sharepoint Developer (Sharepoint 2010, ...</td>\n",
       "      <td>Senior Sharepoint Developer (Sharepoint 20****...</td>\n",
       "      <td>W1B 1LU, England</td>\n",
       "      <td>Fitzrovia</td>\n",
       "      <td>NaN</td>\n",
       "      <td>NaN</td>\n",
       "      <td>NaN</td>\n",
       "      <td>IT Jobs</td>\n",
       "      <td>50000</td>\n",
       "      <td>50000</td>\n",
       "      <td>britishjobsonthe.net</td>\n",
       "      <td>1.0</td>\n",
       "    </tr>\n",
       "    <tr>\n",
       "      <th>116705</th>\n",
       "      <td>69793908</td>\n",
       "      <td>C++ Developer  Mobile Games</td>\n",
       "      <td>Job Role: C++ Games DeveloperLocation: London,...</td>\n",
       "      <td>London</td>\n",
       "      <td>London</td>\n",
       "      <td>NaN</td>\n",
       "      <td>permanent</td>\n",
       "      <td>NaN</td>\n",
       "      <td>IT Jobs</td>\n",
       "      <td>45k to 60k + bonus + benefits</td>\n",
       "      <td>52500</td>\n",
       "      <td>theitjobboard.co.uk</td>\n",
       "      <td>1.0</td>\n",
       "    </tr>\n",
       "    <tr>\n",
       "      <th>137539</th>\n",
       "      <td>70411373</td>\n",
       "      <td>PROPERTY LITIGATION LAWYER ****PQE  BUCKINGHAM...</td>\n",
       "      <td>THE FIRM Our client is a leading regional firm...</td>\n",
       "      <td>Buckinghamshire</td>\n",
       "      <td>Buckinghamshire</td>\n",
       "      <td>NaN</td>\n",
       "      <td>permanent</td>\n",
       "      <td>Lipson Lloyd Jones   London</td>\n",
       "      <td>Legal Jobs</td>\n",
       "      <td>45000 - 55000 per annum + NEGOTIABLE</td>\n",
       "      <td>50000</td>\n",
       "      <td>legalweekjobs.com</td>\n",
       "      <td>1.0</td>\n",
       "    </tr>\n",
       "    <tr>\n",
       "      <th>113237</th>\n",
       "      <td>69733568</td>\n",
       "      <td>Solution Architect, Data / Information Mgt Fin...</td>\n",
       "      <td>Solution Architect Data / Information Mgt Fina...</td>\n",
       "      <td>City of London</td>\n",
       "      <td>The City</td>\n",
       "      <td>NaN</td>\n",
       "      <td>permanent</td>\n",
       "      <td>Networking People  Limited</td>\n",
       "      <td>IT Jobs</td>\n",
       "      <td>80k - 90k pa + full corporate benefits package</td>\n",
       "      <td>85000</td>\n",
       "      <td>londonjobs.co.uk</td>\n",
       "      <td>1.0</td>\n",
       "    </tr>\n",
       "    <tr>\n",
       "      <th>200504</th>\n",
       "      <td>71855907</td>\n",
       "      <td>Java Technical Lead / Lead Developer  Basingst...</td>\n",
       "      <td>J****EE  Java Technical Lead / Lead Developer ...</td>\n",
       "      <td>Basingstoke</td>\n",
       "      <td>Basingstoke</td>\n",
       "      <td>NaN</td>\n",
       "      <td>contract</td>\n",
       "      <td>Spectrum IT Recruitment  Ltd</td>\n",
       "      <td>IT Jobs</td>\n",
       "      <td>375 - 390 p day</td>\n",
       "      <td>91800</td>\n",
       "      <td>jobsite.co.uk</td>\n",
       "      <td>1.0</td>\n",
       "    </tr>\n",
       "    <tr>\n",
       "      <th>50971</th>\n",
       "      <td>68634604</td>\n",
       "      <td>C ASPNet Web Application Software Developer Ca...</td>\n",
       "      <td>C ASP.Net Web Application Software Developer C...</td>\n",
       "      <td>Cambridge</td>\n",
       "      <td>Cambridge</td>\n",
       "      <td>NaN</td>\n",
       "      <td>permanent</td>\n",
       "      <td>NaN</td>\n",
       "      <td>IT Jobs</td>\n",
       "      <td>35000 - 50000 per annum + FANTASTIC PROSPECTS</td>\n",
       "      <td>42500</td>\n",
       "      <td>theitjobboard.co.uk</td>\n",
       "      <td>1.0</td>\n",
       "    </tr>\n",
       "    <tr>\n",
       "      <th>115849</th>\n",
       "      <td>69775915</td>\n",
       "      <td>Mechanical Design Engineer</td>\n",
       "      <td>UK Listed Engineering company is looking to st...</td>\n",
       "      <td>Edinburgh, Central Scotland</td>\n",
       "      <td>UK</td>\n",
       "      <td>NaN</td>\n",
       "      <td>permanent</td>\n",
       "      <td>Ambitek Limited</td>\n",
       "      <td>Engineering Jobs</td>\n",
       "      <td>70000 - 90000/annum Excellent Benefits Package</td>\n",
       "      <td>80000</td>\n",
       "      <td>cv-library.co.uk</td>\n",
       "      <td>1.0</td>\n",
       "    </tr>\n",
       "    <tr>\n",
       "      <th>170043</th>\n",
       "      <td>71352894</td>\n",
       "      <td>Finance Manager</td>\n",
       "      <td>Reporting in to the Head of Finance you will b...</td>\n",
       "      <td>Hampshire, South East</td>\n",
       "      <td>Hampshire</td>\n",
       "      <td>NaN</td>\n",
       "      <td>permanent</td>\n",
       "      <td>NaN</td>\n",
       "      <td>Accounting &amp; Finance Jobs</td>\n",
       "      <td>45000 - 48000 per annum + Car, Health, Pension</td>\n",
       "      <td>46500</td>\n",
       "      <td>jobs.telegraph.co.uk</td>\n",
       "      <td>1.0</td>\n",
       "    </tr>\n",
       "    <tr>\n",
       "      <th>182080</th>\n",
       "      <td>71601525</td>\n",
       "      <td>Senior Quantity Surveyor  Education  Central L...</td>\n",
       "      <td>Senior Quantity Surveyor required for large es...</td>\n",
       "      <td>London South East</td>\n",
       "      <td>South East London</td>\n",
       "      <td>NaN</td>\n",
       "      <td>contract</td>\n",
       "      <td>Amida Recruitment Limited</td>\n",
       "      <td>Trade &amp; Construction Jobs</td>\n",
       "      <td>250 - 300 per day</td>\n",
       "      <td>66000</td>\n",
       "      <td>careerstructure.com</td>\n",
       "      <td>1.0</td>\n",
       "    </tr>\n",
       "    <tr>\n",
       "      <th>88422</th>\n",
       "      <td>69140031</td>\n",
       "      <td>Account Director  Travel &amp; Logistics</td>\n",
       "      <td>Job Description Our client is a technology ser...</td>\n",
       "      <td>Greater London, Central London, East London</td>\n",
       "      <td>London</td>\n",
       "      <td>NaN</td>\n",
       "      <td>NaN</td>\n",
       "      <td>Springboard  Ltd</td>\n",
       "      <td>Other/General Jobs</td>\n",
       "      <td>50,000-74,999 yearly</td>\n",
       "      <td>62499</td>\n",
       "      <td>theladders.co.uk</td>\n",
       "      <td>1.0</td>\n",
       "    </tr>\n",
       "    <tr>\n",
       "      <th>159350</th>\n",
       "      <td>71170738</td>\n",
       "      <td>Profit Centre Manager Sales</td>\n",
       "      <td>Profit Centre Manager Sales  Semi Finished Pla...</td>\n",
       "      <td>Bristol Avon South West</td>\n",
       "      <td>UK</td>\n",
       "      <td>NaN</td>\n",
       "      <td>NaN</td>\n",
       "      <td>BMS Sales Specialists LLP</td>\n",
       "      <td>Sales Jobs</td>\n",
       "      <td>40000 - 45000 per annum + Car Allowance,Health...</td>\n",
       "      <td>42500</td>\n",
       "      <td>salestarget.co.uk</td>\n",
       "      <td>1.0</td>\n",
       "    </tr>\n",
       "    <tr>\n",
       "      <th>61925</th>\n",
       "      <td>68697408</td>\n",
       "      <td>From Senior Audit Manager to RI to Partner</td>\n",
       "      <td>From Senior Audit Manager to RI to Partner Her...</td>\n",
       "      <td>Borehamwood Hertfordshire South East</td>\n",
       "      <td>UK</td>\n",
       "      <td>NaN</td>\n",
       "      <td>permanent</td>\n",
       "      <td>Pro Recruitment Group</td>\n",
       "      <td>Accounting &amp; Finance Jobs</td>\n",
       "      <td>60000 - 70000 per annum</td>\n",
       "      <td>65000</td>\n",
       "      <td>totaljobs.com</td>\n",
       "      <td>1.0</td>\n",
       "    </tr>\n",
       "    <tr>\n",
       "      <th>189357</th>\n",
       "      <td>71709023</td>\n",
       "      <td>Data Manager</td>\n",
       "      <td>Hays Specialist Recruitment is recruiting on b...</td>\n",
       "      <td>UK</td>\n",
       "      <td>UK</td>\n",
       "      <td>full_time</td>\n",
       "      <td>permanent</td>\n",
       "      <td>Hays   Home Counties</td>\n",
       "      <td>IT Jobs</td>\n",
       "      <td>From 49,000 to 49,000 per year</td>\n",
       "      <td>49000</td>\n",
       "      <td>fish4.co.uk</td>\n",
       "      <td>1.0</td>\n",
       "    </tr>\n",
       "    <tr>\n",
       "      <th>156385</th>\n",
       "      <td>71093404</td>\n",
       "      <td>Business Development Manager</td>\n",
       "      <td>A fantastic opportunity to join a completions ...</td>\n",
       "      <td>Aberdeen,</td>\n",
       "      <td>Aberdeen</td>\n",
       "      <td>NaN</td>\n",
       "      <td>NaN</td>\n",
       "      <td>Aberdeen Appointment Agency</td>\n",
       "      <td>Sales Jobs</td>\n",
       "      <td>60000 - 80000 UK Pounds/year</td>\n",
       "      <td>70000</td>\n",
       "      <td>OilCareers.com</td>\n",
       "      <td>1.0</td>\n",
       "    </tr>\n",
       "    <tr>\n",
       "      <th>63447</th>\n",
       "      <td>68704039</td>\n",
       "      <td>Team Lead Developer(NET)</td>\n",
       "      <td>My client recognised nationwide is offering a ...</td>\n",
       "      <td>Basingstoke Hampshire South East</td>\n",
       "      <td>Basingstoke</td>\n",
       "      <td>NaN</td>\n",
       "      <td>permanent</td>\n",
       "      <td>MBN Recruitment Ltd</td>\n",
       "      <td>IT Jobs</td>\n",
       "      <td>Up to 49,000 per annum + Bonus</td>\n",
       "      <td>49000</td>\n",
       "      <td>totaljobs.com</td>\n",
       "      <td>1.0</td>\n",
       "    </tr>\n",
       "    <tr>\n",
       "      <th>226186</th>\n",
       "      <td>72441160</td>\n",
       "      <td>Project Manager</td>\n",
       "      <td>The company The company is a very successful U...</td>\n",
       "      <td>City London South East</td>\n",
       "      <td>London</td>\n",
       "      <td>NaN</td>\n",
       "      <td>permanent</td>\n",
       "      <td>Fawkes and Reece Technical</td>\n",
       "      <td>Engineering Jobs</td>\n",
       "      <td>40000 - 50000 per annum + Package</td>\n",
       "      <td>45000</td>\n",
       "      <td>totaljobs.com</td>\n",
       "      <td>1.0</td>\n",
       "    </tr>\n",
       "    <tr>\n",
       "      <th>141798</th>\n",
       "      <td>70593470</td>\n",
       "      <td>Finance Director</td>\n",
       "      <td>Harris Hill Finance is recruiting a Director o...</td>\n",
       "      <td>Kent</td>\n",
       "      <td>Kent</td>\n",
       "      <td>full_time</td>\n",
       "      <td>contract</td>\n",
       "      <td>Harris Hill Limited</td>\n",
       "      <td>Accounting &amp; Finance Jobs</td>\n",
       "      <td>From 65,000 to 65,000 per year + Competitive</td>\n",
       "      <td>65000</td>\n",
       "      <td>GAAPweb</td>\n",
       "      <td>1.0</td>\n",
       "    </tr>\n",
       "    <tr>\n",
       "      <th>15931</th>\n",
       "      <td>66784743</td>\n",
       "      <td>ESX / VMware Technical Lead (Linux)</td>\n",
       "      <td>ESX / Virtualisation Subject Matter Expert (Li...</td>\n",
       "      <td>city of london london City of London</td>\n",
       "      <td>The City</td>\n",
       "      <td>NaN</td>\n",
       "      <td>permanent</td>\n",
       "      <td>NaN</td>\n",
       "      <td>IT Jobs</td>\n",
       "      <td>75000</td>\n",
       "      <td>75000</td>\n",
       "      <td>technojobs.co.uk</td>\n",
       "      <td>1.0</td>\n",
       "    </tr>\n",
       "    <tr>\n",
       "      <th>177153</th>\n",
       "      <td>71525228</td>\n",
       "      <td>Senior PHP Developer / Solution Architect  London</td>\n",
       "      <td>Senior PHP Developer / Solution Architect  Lon...</td>\n",
       "      <td>London Greater London</td>\n",
       "      <td>London</td>\n",
       "      <td>NaN</td>\n",
       "      <td>permanent</td>\n",
       "      <td>NaN</td>\n",
       "      <td>IT Jobs</td>\n",
       "      <td>60000</td>\n",
       "      <td>60000</td>\n",
       "      <td>technojobs.co.uk</td>\n",
       "      <td>1.0</td>\n",
       "    </tr>\n",
       "    <tr>\n",
       "      <th>53819</th>\n",
       "      <td>68675277</td>\n",
       "      <td>Revenue Manager</td>\n",
       "      <td>Are you a Marketeer with a strong analytical b...</td>\n",
       "      <td>St. Albans Hertfordshire South East</td>\n",
       "      <td>UK</td>\n",
       "      <td>NaN</td>\n",
       "      <td>permanent</td>\n",
       "      <td>BROOK STREET BUREAU   St Albans</td>\n",
       "      <td>PR, Advertising &amp; Marketing Jobs</td>\n",
       "      <td>40000 - 45000 per annum</td>\n",
       "      <td>42500</td>\n",
       "      <td>totaljobs.com</td>\n",
       "      <td>1.0</td>\n",
       "    </tr>\n",
       "    <tr>\n",
       "      <th>58229</th>\n",
       "      <td>68687632</td>\n",
       "      <td>Field based Middleware specialist  Pharmaceuti...</td>\n",
       "      <td>Field based Middleware specialist  Pharmaceuti...</td>\n",
       "      <td>Scotland</td>\n",
       "      <td>Scotland</td>\n",
       "      <td>NaN</td>\n",
       "      <td>permanent</td>\n",
       "      <td>Informatiq</td>\n",
       "      <td>IT Jobs</td>\n",
       "      <td>45,000 + car + excellent benefits</td>\n",
       "      <td>45000</td>\n",
       "      <td>totaljobs.com</td>\n",
       "      <td>1.0</td>\n",
       "    </tr>\n",
       "    <tr>\n",
       "      <th>91827</th>\n",
       "      <td>69172132</td>\n",
       "      <td>Team Manager Referral and Assessment</td>\n",
       "      <td>An exciting opportunity has arisen with our cl...</td>\n",
       "      <td>South West London London South East</td>\n",
       "      <td>East Sheen</td>\n",
       "      <td>NaN</td>\n",
       "      <td>contract</td>\n",
       "      <td>Badenoch &amp; Clark   London</td>\n",
       "      <td>Healthcare &amp; Nursing Jobs</td>\n",
       "      <td>33 - 33.50 per hour</td>\n",
       "      <td>63840</td>\n",
       "      <td>totaljobs.com</td>\n",
       "      <td>1.0</td>\n",
       "    </tr>\n",
       "    <tr>\n",
       "      <th>103983</th>\n",
       "      <td>69568022</td>\n",
       "      <td>FT /PT PERMANENT SALARIED GP REQUIRED IN KENT,...</td>\n",
       "      <td>Grade: GP Type: NHS Location: Kent Start Date:...</td>\n",
       "      <td>Kent</td>\n",
       "      <td>Kent</td>\n",
       "      <td>NaN</td>\n",
       "      <td>permanent</td>\n",
       "      <td>Merco</td>\n",
       "      <td>Healthcare &amp; Nursing Jobs</td>\n",
       "      <td>76000.00 GBP Annual</td>\n",
       "      <td>76000</td>\n",
       "      <td>jobg8.com</td>\n",
       "      <td>1.0</td>\n",
       "    </tr>\n",
       "    <tr>\n",
       "      <th>...</th>\n",
       "      <td>...</td>\n",
       "      <td>...</td>\n",
       "      <td>...</td>\n",
       "      <td>...</td>\n",
       "      <td>...</td>\n",
       "      <td>...</td>\n",
       "      <td>...</td>\n",
       "      <td>...</td>\n",
       "      <td>...</td>\n",
       "      <td>...</td>\n",
       "      <td>...</td>\n",
       "      <td>...</td>\n",
       "      <td>...</td>\n",
       "    </tr>\n",
       "    <tr>\n",
       "      <th>90451</th>\n",
       "      <td>69168176</td>\n",
       "      <td>Test Consultant  Automation  QTP, QC, VBS/VBA ...</td>\n",
       "      <td>Test Consultant  Automation  QTP, QC, VBS/VBA ...</td>\n",
       "      <td>City London South East</td>\n",
       "      <td>London</td>\n",
       "      <td>NaN</td>\n",
       "      <td>permanent</td>\n",
       "      <td>Evolution Recruitment Solutions Ltd</td>\n",
       "      <td>IT Jobs</td>\n",
       "      <td>50000</td>\n",
       "      <td>50000</td>\n",
       "      <td>totaljobs.com</td>\n",
       "      <td>1.0</td>\n",
       "    </tr>\n",
       "    <tr>\n",
       "      <th>61518</th>\n",
       "      <td>68696342</td>\n",
       "      <td>Web Developer, NET Developer, Software Develop...</td>\n",
       "      <td>Web Developer, .NET Developer, Software Develo...</td>\n",
       "      <td>Hertfordshire South East</td>\n",
       "      <td>UK</td>\n",
       "      <td>NaN</td>\n",
       "      <td>permanent</td>\n",
       "      <td>Eurobase People</td>\n",
       "      <td>IT Jobs</td>\n",
       "      <td>From 40,000 to 45,000 per annum + Benefits</td>\n",
       "      <td>42500</td>\n",
       "      <td>totaljobs.com</td>\n",
       "      <td>1.0</td>\n",
       "    </tr>\n",
       "    <tr>\n",
       "      <th>165508</th>\n",
       "      <td>71293166</td>\n",
       "      <td>Category Manager  Grocery</td>\n",
       "      <td>Category Manager / Up to ****  car / South Eas...</td>\n",
       "      <td>South East</td>\n",
       "      <td>South East London</td>\n",
       "      <td>NaN</td>\n",
       "      <td>permanent</td>\n",
       "      <td>NaN</td>\n",
       "      <td>PR, Advertising &amp; Marketing Jobs</td>\n",
       "      <td>40k - 50k</td>\n",
       "      <td>45000</td>\n",
       "      <td>simplymarketingjobs.co.uk</td>\n",
       "      <td>1.0</td>\n",
       "    </tr>\n",
       "    <tr>\n",
       "      <th>85641</th>\n",
       "      <td>69082735</td>\n",
       "      <td>Lead Electrical Engineer</td>\n",
       "      <td>Lead Electrical Engineer required for staff po...</td>\n",
       "      <td>Berkshire</td>\n",
       "      <td>Berkshire</td>\n",
       "      <td>NaN</td>\n",
       "      <td>permanent</td>\n",
       "      <td>Tech Direct</td>\n",
       "      <td>Engineering Jobs</td>\n",
       "      <td>45000 - 70000/annum + Benefits</td>\n",
       "      <td>57500</td>\n",
       "      <td>cv-library.co.uk</td>\n",
       "      <td>1.0</td>\n",
       "    </tr>\n",
       "    <tr>\n",
       "      <th>105594</th>\n",
       "      <td>69584870</td>\n",
       "      <td>Business Analyst  Strategy &amp; Dependancy Analysis</td>\n",
       "      <td>Business Analyst  Strategy &amp; Dependency Analys...</td>\n",
       "      <td>West Midlands</td>\n",
       "      <td>West Midlands</td>\n",
       "      <td>NaN</td>\n",
       "      <td>NaN</td>\n",
       "      <td>Huxley Associates</td>\n",
       "      <td>Other/General Jobs</td>\n",
       "      <td>75,000-99,999 yearly</td>\n",
       "      <td>87499</td>\n",
       "      <td>theladders.co.uk</td>\n",
       "      <td>1.0</td>\n",
       "    </tr>\n",
       "    <tr>\n",
       "      <th>34263</th>\n",
       "      <td>68212278</td>\n",
       "      <td>Audit Manager</td>\n",
       "      <td>Audit Manager London Up to ****  benefits A pe...</td>\n",
       "      <td>City of London</td>\n",
       "      <td>The City</td>\n",
       "      <td>NaN</td>\n",
       "      <td>permanent</td>\n",
       "      <td>Hays Risk Compliance</td>\n",
       "      <td>Accounting &amp; Finance Jobs</td>\n",
       "      <td>40000.00 - 55000.00 per annum</td>\n",
       "      <td>47500</td>\n",
       "      <td>jobsinrisk.com</td>\n",
       "      <td>1.0</td>\n",
       "    </tr>\n",
       "    <tr>\n",
       "      <th>32190</th>\n",
       "      <td>68095567</td>\n",
       "      <td>Net and BI Stack Development Manager  Buckingh...</td>\n",
       "      <td>.Net and BI Stack Development Manager  Bucking...</td>\n",
       "      <td>Gerrards Cross Buckinghamshire South East</td>\n",
       "      <td>Gerrards Cross</td>\n",
       "      <td>NaN</td>\n",
       "      <td>permanent</td>\n",
       "      <td>Oxbridge Answers</td>\n",
       "      <td>IT Jobs</td>\n",
       "      <td>c.70,000</td>\n",
       "      <td>70000</td>\n",
       "      <td>totaljobs.com</td>\n",
       "      <td>1.0</td>\n",
       "    </tr>\n",
       "    <tr>\n",
       "      <th>27730</th>\n",
       "      <td>67931869</td>\n",
       "      <td>Corporate Banking Product Governance and Control</td>\n",
       "      <td>A leading financial services organisation is c...</td>\n",
       "      <td>London</td>\n",
       "      <td>London</td>\n",
       "      <td>NaN</td>\n",
       "      <td>permanent</td>\n",
       "      <td>NaN</td>\n",
       "      <td>Accounting &amp; Finance Jobs</td>\n",
       "      <td>Up to 53000 + Benefits</td>\n",
       "      <td>53000</td>\n",
       "      <td>hays.co.uk</td>\n",
       "      <td>1.0</td>\n",
       "    </tr>\n",
       "    <tr>\n",
       "      <th>200782</th>\n",
       "      <td>71856550</td>\n",
       "      <td>Quality Manager (Supplier Quality Manager)</td>\n",
       "      <td>Quality Manager (Supplier Quality Assurance) H...</td>\n",
       "      <td>Buckinghamshire</td>\n",
       "      <td>Buckinghamshire</td>\n",
       "      <td>NaN</td>\n",
       "      <td>permanent</td>\n",
       "      <td>Cast UK Limited</td>\n",
       "      <td>Manufacturing Jobs</td>\n",
       "      <td>45k pa</td>\n",
       "      <td>45000</td>\n",
       "      <td>jobsite.co.uk</td>\n",
       "      <td>1.0</td>\n",
       "    </tr>\n",
       "    <tr>\n",
       "      <th>242451</th>\n",
       "      <td>72688571</td>\n",
       "      <td>Service Transition Manager  Financial Services</td>\n",
       "      <td>Service Transition Manager Job Title: Service ...</td>\n",
       "      <td>Kent,London</td>\n",
       "      <td>London</td>\n",
       "      <td>NaN</td>\n",
       "      <td>permanent</td>\n",
       "      <td>Jobsite Jobs</td>\n",
       "      <td>IT Jobs</td>\n",
       "      <td>70000.00 - 80000.00 GBP Annual + From 70,000 to</td>\n",
       "      <td>75000</td>\n",
       "      <td>jobsite.co.uk</td>\n",
       "      <td>1.0</td>\n",
       "    </tr>\n",
       "    <tr>\n",
       "      <th>184962</th>\n",
       "      <td>71669262</td>\n",
       "      <td>Senior BDM  Sales Performance Automation  ****...</td>\n",
       "      <td>Do you want to join a market leading awarding ...</td>\n",
       "      <td>Reading Berkshire South East</td>\n",
       "      <td>Reading</td>\n",
       "      <td>NaN</td>\n",
       "      <td>NaN</td>\n",
       "      <td>H2 Recruit</td>\n",
       "      <td>Sales Jobs</td>\n",
       "      <td>60000.00 - 65000.00 per annum + 130k ote, heal...</td>\n",
       "      <td>62500</td>\n",
       "      <td>salestarget.co.uk</td>\n",
       "      <td>1.0</td>\n",
       "    </tr>\n",
       "    <tr>\n",
       "      <th>184087</th>\n",
       "      <td>71643147</td>\n",
       "      <td>Private Equity secondaries/Coinvestments Analy...</td>\n",
       "      <td>Private Equity secondaries/Coinvestments Analy...</td>\n",
       "      <td>UK</td>\n",
       "      <td>UK</td>\n",
       "      <td>NaN</td>\n",
       "      <td>NaN</td>\n",
       "      <td>Selby Jennings</td>\n",
       "      <td>Other/General Jobs</td>\n",
       "      <td>50,000-74,999 yearly</td>\n",
       "      <td>62499</td>\n",
       "      <td>theladders.co.uk</td>\n",
       "      <td>1.0</td>\n",
       "    </tr>\n",
       "    <tr>\n",
       "      <th>45045</th>\n",
       "      <td>68537892</td>\n",
       "      <td>OPEN DAY  Registered General Nurse (RGN)  OPE...</td>\n",
       "      <td>REGISTRATION OPEN DAY  GLOUCESTER  ****/****/2...</td>\n",
       "      <td>Gloucester</td>\n",
       "      <td>Gloucester</td>\n",
       "      <td>NaN</td>\n",
       "      <td>contract</td>\n",
       "      <td>MSI Group Ltd</td>\n",
       "      <td>Healthcare &amp; Nursing Jobs</td>\n",
       "      <td>18.00 - 35.00/Hour</td>\n",
       "      <td>50880</td>\n",
       "      <td>staffnurse.com</td>\n",
       "      <td>1.0</td>\n",
       "    </tr>\n",
       "    <tr>\n",
       "      <th>134934</th>\n",
       "      <td>70255773</td>\n",
       "      <td>Trading Systems Support (DMA / Market Access )</td>\n",
       "      <td>The Company Robert Half Technology is seeking ...</td>\n",
       "      <td>City London South East</td>\n",
       "      <td>London</td>\n",
       "      <td>NaN</td>\n",
       "      <td>permanent</td>\n",
       "      <td>Robert Half Technology</td>\n",
       "      <td>Accounting &amp; Finance Jobs</td>\n",
       "      <td>50000 - 60000 per annum + bonus</td>\n",
       "      <td>55000</td>\n",
       "      <td>totaljobs.com</td>\n",
       "      <td>1.0</td>\n",
       "    </tr>\n",
       "    <tr>\n",
       "      <th>94924</th>\n",
       "      <td>69205946</td>\n",
       "      <td>Technical Product Manager</td>\n",
       "      <td>Product Manager required for my multi billion ...</td>\n",
       "      <td>UK</td>\n",
       "      <td>UK</td>\n",
       "      <td>full_time</td>\n",
       "      <td>permanent</td>\n",
       "      <td>Monarch Recruitment</td>\n",
       "      <td>IT Jobs</td>\n",
       "      <td>From 50,000 to 75,000 per year</td>\n",
       "      <td>62500</td>\n",
       "      <td>fish4.co.uk</td>\n",
       "      <td>1.0</td>\n",
       "    </tr>\n",
       "    <tr>\n",
       "      <th>70491</th>\n",
       "      <td>68823808</td>\n",
       "      <td>Senior Java Technical Lead</td>\n",
       "      <td>Senior Java Technical Lead – Leeds  ******** A...</td>\n",
       "      <td>Leeds West Yorkshire England</td>\n",
       "      <td>Leeds</td>\n",
       "      <td>NaN</td>\n",
       "      <td>NaN</td>\n",
       "      <td>Computer Futures</td>\n",
       "      <td>IT Jobs</td>\n",
       "      <td>45000 -50000 per annum</td>\n",
       "      <td>47500</td>\n",
       "      <td>gojobsearch.co.uk</td>\n",
       "      <td>1.0</td>\n",
       "    </tr>\n",
       "    <tr>\n",
       "      <th>158115</th>\n",
       "      <td>71127188</td>\n",
       "      <td>Lean Leaders  UK Flexible Locations</td>\n",
       "      <td>And you don't need to have financial services ...</td>\n",
       "      <td>London</td>\n",
       "      <td>London</td>\n",
       "      <td>NaN</td>\n",
       "      <td>NaN</td>\n",
       "      <td>RBS Group</td>\n",
       "      <td>Accounting &amp; Finance Jobs</td>\n",
       "      <td>from 46,000 to 60,000 plus 30% cash and benefi...</td>\n",
       "      <td>53000</td>\n",
       "      <td>eFinancialCareers</td>\n",
       "      <td>1.0</td>\n",
       "    </tr>\n",
       "    <tr>\n",
       "      <th>39394</th>\n",
       "      <td>68348585</td>\n",
       "      <td>AD Vacancy Working On Film Clients</td>\n",
       "      <td>THE COMPANY A top 10 media agency, and a huge ...</td>\n",
       "      <td>London</td>\n",
       "      <td>London</td>\n",
       "      <td>full_time</td>\n",
       "      <td>permanent</td>\n",
       "      <td>Ultimate Asset</td>\n",
       "      <td>PR, Advertising &amp; Marketing Jobs</td>\n",
       "      <td>40000 - 45000 per annum + GREAT benefits</td>\n",
       "      <td>42500</td>\n",
       "      <td>Brand Republic Jobs</td>\n",
       "      <td>1.0</td>\n",
       "    </tr>\n",
       "    <tr>\n",
       "      <th>92413</th>\n",
       "      <td>69173961</td>\n",
       "      <td>Thermal Engineer  Electronics Products</td>\n",
       "      <td>Thermal Engineer  Electronics Products Ref: BB...</td>\n",
       "      <td>Colchester Essex South East</td>\n",
       "      <td>UK</td>\n",
       "      <td>NaN</td>\n",
       "      <td>permanent</td>\n",
       "      <td>JAM Recruitment Ltd.</td>\n",
       "      <td>Engineering Jobs</td>\n",
       "      <td>35000.00 - 55000.00 per annum + pension, healt...</td>\n",
       "      <td>45000</td>\n",
       "      <td>totaljobs.com</td>\n",
       "      <td>1.0</td>\n",
       "    </tr>\n",
       "    <tr>\n",
       "      <th>181488</th>\n",
       "      <td>71595194</td>\n",
       "      <td>Senior C Developer  Head of Ecommerce Technical</td>\n",
       "      <td>Skills: Ecommerce / Head of Technology / C / ....</td>\n",
       "      <td>North London London</td>\n",
       "      <td>North London</td>\n",
       "      <td>full_time</td>\n",
       "      <td>permanent</td>\n",
       "      <td>NaN</td>\n",
       "      <td>IT Jobs</td>\n",
       "      <td>45000-55000 Per Annum</td>\n",
       "      <td>50000</td>\n",
       "      <td>Jobs24</td>\n",
       "      <td>1.0</td>\n",
       "    </tr>\n",
       "    <tr>\n",
       "      <th>177814</th>\n",
       "      <td>71554136</td>\n",
       "      <td>Senior SMPS Design Engineer  DCDC/LED</td>\n",
       "      <td>Based in the North of the UK, the Senior Switc...</td>\n",
       "      <td>West Yorkshire, West Yorkshire</td>\n",
       "      <td>West Yorkshire</td>\n",
       "      <td>NaN</td>\n",
       "      <td>NaN</td>\n",
       "      <td>IC 3E LLP</td>\n",
       "      <td>Engineering Jobs</td>\n",
       "      <td>45000.00 per annum + Benefits</td>\n",
       "      <td>45000</td>\n",
       "      <td>jobs.electronicsweekly.com</td>\n",
       "      <td>1.0</td>\n",
       "    </tr>\n",
       "    <tr>\n",
       "      <th>205687</th>\n",
       "      <td>72118241</td>\n",
       "      <td>Band 6 Occupational Therapist  Paediatrics</td>\n",
       "      <td>MedicsPro are acting on behalf of our client b...</td>\n",
       "      <td>Isle of Man</td>\n",
       "      <td>Isle Of Man</td>\n",
       "      <td>NaN</td>\n",
       "      <td>contract</td>\n",
       "      <td>MedicsPro</td>\n",
       "      <td>Healthcare &amp; Nursing Jobs</td>\n",
       "      <td>20 - 40/hour</td>\n",
       "      <td>57600</td>\n",
       "      <td>cv-library.co.uk</td>\n",
       "      <td>1.0</td>\n",
       "    </tr>\n",
       "    <tr>\n",
       "      <th>160988</th>\n",
       "      <td>71187860</td>\n",
       "      <td>Business Development Manager</td>\n",
       "      <td>The Company Established over 100 years ago our...</td>\n",
       "      <td>Leicestershire East Midlands</td>\n",
       "      <td>Leicestershire</td>\n",
       "      <td>NaN</td>\n",
       "      <td>permanent</td>\n",
       "      <td>POOLE RESOURCING LTD</td>\n",
       "      <td>Sales Jobs</td>\n",
       "      <td>From 50,000 to 55,000 per annum +OTE +Car Allo...</td>\n",
       "      <td>52500</td>\n",
       "      <td>totaljobs.com</td>\n",
       "      <td>1.0</td>\n",
       "    </tr>\n",
       "    <tr>\n",
       "      <th>43275</th>\n",
       "      <td>68496133</td>\n",
       "      <td>Windows/SQL Server Consultant  2 months initia...</td>\n",
       "      <td>. Windows/SQL Server Consultant  2 months  Gla...</td>\n",
       "      <td>Lanarkshire Glasgow G32 0</td>\n",
       "      <td>Glasgow East Investment Park</td>\n",
       "      <td>NaN</td>\n",
       "      <td>contract</td>\n",
       "      <td>Parity Resourcing Solutions</td>\n",
       "      <td>IT Jobs</td>\n",
       "      <td>300.00 - 340.00 GBP Day</td>\n",
       "      <td>76800</td>\n",
       "      <td>jobserve.com</td>\n",
       "      <td>1.0</td>\n",
       "    </tr>\n",
       "    <tr>\n",
       "      <th>93389</th>\n",
       "      <td>69189255</td>\n",
       "      <td>Loyalty Solutions Manager</td>\n",
       "      <td>A leading UK retailer is currently recruiting ...</td>\n",
       "      <td>South East</td>\n",
       "      <td>South East London</td>\n",
       "      <td>NaN</td>\n",
       "      <td>permanent</td>\n",
       "      <td>Quest Search and Selection</td>\n",
       "      <td>Retail Jobs</td>\n",
       "      <td>40000 - 50000 per annum + Benefits</td>\n",
       "      <td>45000</td>\n",
       "      <td>retailchoice.com</td>\n",
       "      <td>1.0</td>\n",
       "    </tr>\n",
       "    <tr>\n",
       "      <th>209833</th>\n",
       "      <td>72174369</td>\n",
       "      <td>Quantity Surveyor  Groundworks and Frames</td>\n",
       "      <td>SENIOR QUANTITY SURVEYOR  CHELMSFORD  ****K***...</td>\n",
       "      <td>Essex South East</td>\n",
       "      <td>UK</td>\n",
       "      <td>NaN</td>\n",
       "      <td>permanent</td>\n",
       "      <td>Fawkes &amp; Reece</td>\n",
       "      <td>Trade &amp; Construction Jobs</td>\n",
       "      <td>50000 - 65000 per annum + package</td>\n",
       "      <td>57500</td>\n",
       "      <td>careerstructure.com</td>\n",
       "      <td>1.0</td>\n",
       "    </tr>\n",
       "    <tr>\n",
       "      <th>27772</th>\n",
       "      <td>67933821</td>\n",
       "      <td>Trust Litigation Lawyer ****</td>\n",
       "      <td>Contentious Trusts/Estates Lawyer **** to 85,0...</td>\n",
       "      <td>London</td>\n",
       "      <td>London</td>\n",
       "      <td>NaN</td>\n",
       "      <td>permanent</td>\n",
       "      <td>NaN</td>\n",
       "      <td>Legal Jobs</td>\n",
       "      <td>To 85,000</td>\n",
       "      <td>42500</td>\n",
       "      <td>hays.co.uk</td>\n",
       "      <td>1.0</td>\n",
       "    </tr>\n",
       "    <tr>\n",
       "      <th>132123</th>\n",
       "      <td>70213927</td>\n",
       "      <td>Project Support</td>\n",
       "      <td>Project Overview Our client, a nuclear site, a...</td>\n",
       "      <td>Seascale, Cumbria</td>\n",
       "      <td>Seascale</td>\n",
       "      <td>NaN</td>\n",
       "      <td>contract</td>\n",
       "      <td>Capita Resourcing</td>\n",
       "      <td>Engineering Jobs</td>\n",
       "      <td>30 - 35/hour</td>\n",
       "      <td>62400</td>\n",
       "      <td>cv-library.co.uk</td>\n",
       "      <td>1.0</td>\n",
       "    </tr>\n",
       "    <tr>\n",
       "      <th>242853</th>\n",
       "      <td>72689517</td>\n",
       "      <td>Production Manager  Plastic Injection Moulding</td>\n",
       "      <td>PRODUCTION MANAGER PLASTIC INJECTION MOULDING ...</td>\n",
       "      <td>Shropshire,Telford,Wolverhampton,West Midlands...</td>\n",
       "      <td>UK</td>\n",
       "      <td>NaN</td>\n",
       "      <td>permanent</td>\n",
       "      <td>CoreTalent Recruitment</td>\n",
       "      <td>Manufacturing Jobs</td>\n",
       "      <td>40k - 45k pa + Excellent Benefits</td>\n",
       "      <td>42500</td>\n",
       "      <td>jobsite.co.uk</td>\n",
       "      <td>1.0</td>\n",
       "    </tr>\n",
       "    <tr>\n",
       "      <th>25529</th>\n",
       "      <td>67771931</td>\n",
       "      <td>Deputy IT Manager (Linux, VMware, SQL, Exchang...</td>\n",
       "      <td>Deputy IT Manager (Linux, VMware, SQL, Exchang...</td>\n",
       "      <td>City of London, England</td>\n",
       "      <td>The City</td>\n",
       "      <td>NaN</td>\n",
       "      <td>NaN</td>\n",
       "      <td>NaN</td>\n",
       "      <td>IT Jobs</td>\n",
       "      <td>45000</td>\n",
       "      <td>45000</td>\n",
       "      <td>britishjobsonthe.net</td>\n",
       "      <td>1.0</td>\n",
       "    </tr>\n",
       "  </tbody>\n",
       "</table>\n",
       "<p>7500 rows × 13 columns</p>\n",
       "</div>"
      ],
      "text/plain": [
       "              Id                                              Title  \\\n",
       "573     46629484           Mental Health Pharmacist Band 7 Cheshire   \n",
       "107373  69597277                      Chemicals Procurement Manager   \n",
       "138386  70445011                     SHO Acute Medicine  North West   \n",
       "137207  70384614      HEOR Manager  Strong line management position   \n",
       "142799  70607718                       Project Development Engineer   \n",
       "167249  71305557             Programme Manager, Siebel, CRM, Oracle   \n",
       "91290   69170682                      Continous Improvement Manager   \n",
       "81452   69026323  Senior Sharepoint Developer (Sharepoint 2010, ...   \n",
       "116705  69793908                        C++ Developer  Mobile Games   \n",
       "137539  70411373  PROPERTY LITIGATION LAWYER ****PQE  BUCKINGHAM...   \n",
       "113237  69733568  Solution Architect, Data / Information Mgt Fin...   \n",
       "200504  71855907  Java Technical Lead / Lead Developer  Basingst...   \n",
       "50971   68634604  C ASPNet Web Application Software Developer Ca...   \n",
       "115849  69775915                         Mechanical Design Engineer   \n",
       "170043  71352894                                    Finance Manager   \n",
       "182080  71601525  Senior Quantity Surveyor  Education  Central L...   \n",
       "88422   69140031               Account Director  Travel & Logistics   \n",
       "159350  71170738                        Profit Centre Manager Sales   \n",
       "61925   68697408         From Senior Audit Manager to RI to Partner   \n",
       "189357  71709023                                       Data Manager   \n",
       "156385  71093404                       Business Development Manager   \n",
       "63447   68704039                           Team Lead Developer(NET)   \n",
       "226186  72441160                                    Project Manager   \n",
       "141798  70593470                                   Finance Director   \n",
       "15931   66784743                ESX / VMware Technical Lead (Linux)   \n",
       "177153  71525228  Senior PHP Developer / Solution Architect  London   \n",
       "53819   68675277                                    Revenue Manager   \n",
       "58229   68687632  Field based Middleware specialist  Pharmaceuti...   \n",
       "91827   69172132               Team Manager Referral and Assessment   \n",
       "103983  69568022  FT /PT PERMANENT SALARIED GP REQUIRED IN KENT,...   \n",
       "...          ...                                                ...   \n",
       "90451   69168176  Test Consultant  Automation  QTP, QC, VBS/VBA ...   \n",
       "61518   68696342  Web Developer, NET Developer, Software Develop...   \n",
       "165508  71293166                          Category Manager  Grocery   \n",
       "85641   69082735                           Lead Electrical Engineer   \n",
       "105594  69584870   Business Analyst  Strategy & Dependancy Analysis   \n",
       "34263   68212278                                      Audit Manager   \n",
       "32190   68095567  Net and BI Stack Development Manager  Buckingh...   \n",
       "27730   67931869   Corporate Banking Product Governance and Control   \n",
       "200782  71856550         Quality Manager (Supplier Quality Manager)   \n",
       "242451  72688571     Service Transition Manager  Financial Services   \n",
       "184962  71669262  Senior BDM  Sales Performance Automation  ****...   \n",
       "184087  71643147  Private Equity secondaries/Coinvestments Analy...   \n",
       "45045   68537892   OPEN DAY  Registered General Nurse (RGN)  OPE...   \n",
       "134934  70255773     Trading Systems Support (DMA / Market Access )   \n",
       "94924   69205946                          Technical Product Manager   \n",
       "70491   68823808                         Senior Java Technical Lead   \n",
       "158115  71127188                Lean Leaders  UK Flexible Locations   \n",
       "39394   68348585                 AD Vacancy Working On Film Clients   \n",
       "92413   69173961             Thermal Engineer  Electronics Products   \n",
       "181488  71595194    Senior C Developer  Head of Ecommerce Technical   \n",
       "177814  71554136              Senior SMPS Design Engineer  DCDC/LED   \n",
       "205687  72118241         Band 6 Occupational Therapist  Paediatrics   \n",
       "160988  71187860                       Business Development Manager   \n",
       "43275   68496133  Windows/SQL Server Consultant  2 months initia...   \n",
       "93389   69189255                          Loyalty Solutions Manager   \n",
       "209833  72174369          Quantity Surveyor  Groundworks and Frames   \n",
       "27772   67933821                       Trust Litigation Lawyer ****   \n",
       "132123  70213927                                    Project Support   \n",
       "242853  72689517     Production Manager  Plastic Injection Moulding   \n",
       "25529   67771931  Deputy IT Manager (Linux, VMware, SQL, Exchang...   \n",
       "\n",
       "                                          FullDescription  \\\n",
       "573     PULSE Staffing has an opportunity available in...   \n",
       "107373  Chemicals Procurement Manager  Fantastic Inter...   \n",
       "138386  SHO Acute Medicine Start date: ****/****/**** ...   \n",
       "137207  My client, one of the most recognisable names ...   \n",
       "142799  Operations Process  Project Development Engine...   \n",
       "167249  Programme Manager, Siebel, CRM, Oracle My clie...   \n",
       "91290   Continuous Improvement Manager Job description...   \n",
       "81452   Senior Sharepoint Developer (Sharepoint 20****...   \n",
       "116705  Job Role: C++ Games DeveloperLocation: London,...   \n",
       "137539  THE FIRM Our client is a leading regional firm...   \n",
       "113237  Solution Architect Data / Information Mgt Fina...   \n",
       "200504  J****EE  Java Technical Lead / Lead Developer ...   \n",
       "50971   C ASP.Net Web Application Software Developer C...   \n",
       "115849  UK Listed Engineering company is looking to st...   \n",
       "170043  Reporting in to the Head of Finance you will b...   \n",
       "182080  Senior Quantity Surveyor required for large es...   \n",
       "88422   Job Description Our client is a technology ser...   \n",
       "159350  Profit Centre Manager Sales  Semi Finished Pla...   \n",
       "61925   From Senior Audit Manager to RI to Partner Her...   \n",
       "189357  Hays Specialist Recruitment is recruiting on b...   \n",
       "156385  A fantastic opportunity to join a completions ...   \n",
       "63447   My client recognised nationwide is offering a ...   \n",
       "226186  The company The company is a very successful U...   \n",
       "141798  Harris Hill Finance is recruiting a Director o...   \n",
       "15931   ESX / Virtualisation Subject Matter Expert (Li...   \n",
       "177153  Senior PHP Developer / Solution Architect  Lon...   \n",
       "53819   Are you a Marketeer with a strong analytical b...   \n",
       "58229   Field based Middleware specialist  Pharmaceuti...   \n",
       "91827   An exciting opportunity has arisen with our cl...   \n",
       "103983  Grade: GP Type: NHS Location: Kent Start Date:...   \n",
       "...                                                   ...   \n",
       "90451   Test Consultant  Automation  QTP, QC, VBS/VBA ...   \n",
       "61518   Web Developer, .NET Developer, Software Develo...   \n",
       "165508  Category Manager / Up to ****  car / South Eas...   \n",
       "85641   Lead Electrical Engineer required for staff po...   \n",
       "105594  Business Analyst  Strategy & Dependency Analys...   \n",
       "34263   Audit Manager London Up to ****  benefits A pe...   \n",
       "32190   .Net and BI Stack Development Manager  Bucking...   \n",
       "27730   A leading financial services organisation is c...   \n",
       "200782  Quality Manager (Supplier Quality Assurance) H...   \n",
       "242451  Service Transition Manager Job Title: Service ...   \n",
       "184962  Do you want to join a market leading awarding ...   \n",
       "184087  Private Equity secondaries/Coinvestments Analy...   \n",
       "45045   REGISTRATION OPEN DAY  GLOUCESTER  ****/****/2...   \n",
       "134934  The Company Robert Half Technology is seeking ...   \n",
       "94924   Product Manager required for my multi billion ...   \n",
       "70491   Senior Java Technical Lead – Leeds  ******** A...   \n",
       "158115  And you don't need to have financial services ...   \n",
       "39394   THE COMPANY A top 10 media agency, and a huge ...   \n",
       "92413   Thermal Engineer  Electronics Products Ref: BB...   \n",
       "181488  Skills: Ecommerce / Head of Technology / C / ....   \n",
       "177814  Based in the North of the UK, the Senior Switc...   \n",
       "205687  MedicsPro are acting on behalf of our client b...   \n",
       "160988  The Company Established over 100 years ago our...   \n",
       "43275   . Windows/SQL Server Consultant  2 months  Gla...   \n",
       "93389   A leading UK retailer is currently recruiting ...   \n",
       "209833  SENIOR QUANTITY SURVEYOR  CHELMSFORD  ****K***...   \n",
       "27772   Contentious Trusts/Estates Lawyer **** to 85,0...   \n",
       "132123  Project Overview Our client, a nuclear site, a...   \n",
       "242853  PRODUCTION MANAGER PLASTIC INJECTION MOULDING ...   \n",
       "25529   Deputy IT Manager (Linux, VMware, SQL, Exchang...   \n",
       "\n",
       "                                              LocationRaw  \\\n",
       "573                                              Cheshire   \n",
       "107373               Cambridge Cambridgeshire East Anglia   \n",
       "138386                                              North   \n",
       "137207                                      Hertfordshire   \n",
       "142799                                             Surrey   \n",
       "167249        Central London / West End London South East   \n",
       "91290            Milton Keynes Buckinghamshire South East   \n",
       "81452                                    W1B 1LU, England   \n",
       "116705                                             London   \n",
       "137539                                    Buckinghamshire   \n",
       "113237                                     City of London   \n",
       "200504                                        Basingstoke   \n",
       "50971                                           Cambridge   \n",
       "115849                        Edinburgh, Central Scotland   \n",
       "170043                              Hampshire, South East   \n",
       "182080                                  London South East   \n",
       "88422         Greater London, Central London, East London   \n",
       "159350                            Bristol Avon South West   \n",
       "61925                Borehamwood Hertfordshire South East   \n",
       "189357                                                 UK   \n",
       "156385                                          Aberdeen,   \n",
       "63447                    Basingstoke Hampshire South East   \n",
       "226186                             City London South East   \n",
       "141798                                               Kent   \n",
       "15931                city of london london City of London   \n",
       "177153                              London Greater London   \n",
       "53819                 St. Albans Hertfordshire South East   \n",
       "58229                                            Scotland   \n",
       "91827                 South West London London South East   \n",
       "103983                                               Kent   \n",
       "...                                                   ...   \n",
       "90451                              City London South East   \n",
       "61518                            Hertfordshire South East   \n",
       "165508                                         South East   \n",
       "85641                                           Berkshire   \n",
       "105594                                      West Midlands   \n",
       "34263                                      City of London   \n",
       "32190           Gerrards Cross Buckinghamshire South East   \n",
       "27730                                              London   \n",
       "200782                                    Buckinghamshire   \n",
       "242451                                        Kent,London   \n",
       "184962                       Reading Berkshire South East   \n",
       "184087                                                 UK   \n",
       "45045                                          Gloucester   \n",
       "134934                             City London South East   \n",
       "94924                                                  UK   \n",
       "70491                        Leeds West Yorkshire England   \n",
       "158115                                             London   \n",
       "39394                                              London   \n",
       "92413                         Colchester Essex South East   \n",
       "181488                                North London London   \n",
       "177814                     West Yorkshire, West Yorkshire   \n",
       "205687                                        Isle of Man   \n",
       "160988                       Leicestershire East Midlands   \n",
       "43275                           Lanarkshire Glasgow G32 0   \n",
       "93389                                          South East   \n",
       "209833                                   Essex South East   \n",
       "27772                                              London   \n",
       "132123                                  Seascale, Cumbria   \n",
       "242853  Shropshire,Telford,Wolverhampton,West Midlands...   \n",
       "25529                             City of London, England   \n",
       "\n",
       "                  LocationNormalized ContractType ContractTime  \\\n",
       "573                         Cheshire    full_time          NaN   \n",
       "107373                            UK          NaN    permanent   \n",
       "138386                North Finchley          NaN     contract   \n",
       "137207                 Hertfordshire          NaN          NaN   \n",
       "142799                        Surrey          NaN    permanent   \n",
       "167249                        London          NaN     contract   \n",
       "91290                  Milton Keynes          NaN    permanent   \n",
       "81452                      Fitzrovia          NaN          NaN   \n",
       "116705                        London          NaN    permanent   \n",
       "137539               Buckinghamshire          NaN    permanent   \n",
       "113237                      The City          NaN    permanent   \n",
       "200504                   Basingstoke          NaN     contract   \n",
       "50971                      Cambridge          NaN    permanent   \n",
       "115849                            UK          NaN    permanent   \n",
       "170043                     Hampshire          NaN    permanent   \n",
       "182080             South East London          NaN     contract   \n",
       "88422                         London          NaN          NaN   \n",
       "159350                            UK          NaN          NaN   \n",
       "61925                             UK          NaN    permanent   \n",
       "189357                            UK    full_time    permanent   \n",
       "156385                      Aberdeen          NaN          NaN   \n",
       "63447                    Basingstoke          NaN    permanent   \n",
       "226186                        London          NaN    permanent   \n",
       "141798                          Kent    full_time     contract   \n",
       "15931                       The City          NaN    permanent   \n",
       "177153                        London          NaN    permanent   \n",
       "53819                             UK          NaN    permanent   \n",
       "58229                       Scotland          NaN    permanent   \n",
       "91827                     East Sheen          NaN     contract   \n",
       "103983                          Kent          NaN    permanent   \n",
       "...                              ...          ...          ...   \n",
       "90451                         London          NaN    permanent   \n",
       "61518                             UK          NaN    permanent   \n",
       "165508             South East London          NaN    permanent   \n",
       "85641                      Berkshire          NaN    permanent   \n",
       "105594                 West Midlands          NaN          NaN   \n",
       "34263                       The City          NaN    permanent   \n",
       "32190                 Gerrards Cross          NaN    permanent   \n",
       "27730                         London          NaN    permanent   \n",
       "200782               Buckinghamshire          NaN    permanent   \n",
       "242451                        London          NaN    permanent   \n",
       "184962                       Reading          NaN          NaN   \n",
       "184087                            UK          NaN          NaN   \n",
       "45045                     Gloucester          NaN     contract   \n",
       "134934                        London          NaN    permanent   \n",
       "94924                             UK    full_time    permanent   \n",
       "70491                          Leeds          NaN          NaN   \n",
       "158115                        London          NaN          NaN   \n",
       "39394                         London    full_time    permanent   \n",
       "92413                             UK          NaN    permanent   \n",
       "181488                  North London    full_time    permanent   \n",
       "177814                West Yorkshire          NaN          NaN   \n",
       "205687                   Isle Of Man          NaN     contract   \n",
       "160988                Leicestershire          NaN    permanent   \n",
       "43275   Glasgow East Investment Park          NaN     contract   \n",
       "93389              South East London          NaN    permanent   \n",
       "209833                            UK          NaN    permanent   \n",
       "27772                         London          NaN    permanent   \n",
       "132123                      Seascale          NaN     contract   \n",
       "242853                            UK          NaN    permanent   \n",
       "25529                       The City          NaN          NaN   \n",
       "\n",
       "                                    Company                          Category  \\\n",
       "573                                     NaN         Healthcare & Nursing Jobs   \n",
       "107373                    1st Executive Ltd                Other/General Jobs   \n",
       "138386                      National Locums         Healthcare & Nursing Jobs   \n",
       "137207           NonStop Pharma Recruitment              Scientific & QA Jobs   \n",
       "142799               Prime Time Recruitment                  Engineering Jobs   \n",
       "167249           Haybrook IT Resourcing Ltd                           IT Jobs   \n",
       "91290            Synergi Search & Selection                       Retail Jobs   \n",
       "81452                                   NaN                           IT Jobs   \n",
       "116705                                  NaN                           IT Jobs   \n",
       "137539          Lipson Lloyd Jones   London                        Legal Jobs   \n",
       "113237           Networking People  Limited                           IT Jobs   \n",
       "200504         Spectrum IT Recruitment  Ltd                           IT Jobs   \n",
       "50971                                   NaN                           IT Jobs   \n",
       "115849                      Ambitek Limited                  Engineering Jobs   \n",
       "170043                                  NaN         Accounting & Finance Jobs   \n",
       "182080            Amida Recruitment Limited         Trade & Construction Jobs   \n",
       "88422                      Springboard  Ltd                Other/General Jobs   \n",
       "159350            BMS Sales Specialists LLP                        Sales Jobs   \n",
       "61925                 Pro Recruitment Group         Accounting & Finance Jobs   \n",
       "189357                 Hays   Home Counties                           IT Jobs   \n",
       "156385          Aberdeen Appointment Agency                        Sales Jobs   \n",
       "63447                   MBN Recruitment Ltd                           IT Jobs   \n",
       "226186           Fawkes and Reece Technical                  Engineering Jobs   \n",
       "141798                  Harris Hill Limited         Accounting & Finance Jobs   \n",
       "15931                                   NaN                           IT Jobs   \n",
       "177153                                  NaN                           IT Jobs   \n",
       "53819       BROOK STREET BUREAU   St Albans  PR, Advertising & Marketing Jobs   \n",
       "58229                            Informatiq                           IT Jobs   \n",
       "91827            Badenoch & Clark   London          Healthcare & Nursing Jobs   \n",
       "103983                                Merco         Healthcare & Nursing Jobs   \n",
       "...                                     ...                               ...   \n",
       "90451   Evolution Recruitment Solutions Ltd                           IT Jobs   \n",
       "61518                       Eurobase People                           IT Jobs   \n",
       "165508                                  NaN  PR, Advertising & Marketing Jobs   \n",
       "85641                           Tech Direct                  Engineering Jobs   \n",
       "105594                    Huxley Associates                Other/General Jobs   \n",
       "34263                  Hays Risk Compliance         Accounting & Finance Jobs   \n",
       "32190                      Oxbridge Answers                           IT Jobs   \n",
       "27730                                   NaN         Accounting & Finance Jobs   \n",
       "200782                      Cast UK Limited                Manufacturing Jobs   \n",
       "242451                         Jobsite Jobs                           IT Jobs   \n",
       "184962                           H2 Recruit                        Sales Jobs   \n",
       "184087                       Selby Jennings                Other/General Jobs   \n",
       "45045                         MSI Group Ltd         Healthcare & Nursing Jobs   \n",
       "134934               Robert Half Technology         Accounting & Finance Jobs   \n",
       "94924                   Monarch Recruitment                           IT Jobs   \n",
       "70491                      Computer Futures                           IT Jobs   \n",
       "158115                            RBS Group         Accounting & Finance Jobs   \n",
       "39394                        Ultimate Asset  PR, Advertising & Marketing Jobs   \n",
       "92413                  JAM Recruitment Ltd.                  Engineering Jobs   \n",
       "181488                                  NaN                           IT Jobs   \n",
       "177814                            IC 3E LLP                  Engineering Jobs   \n",
       "205687                            MedicsPro         Healthcare & Nursing Jobs   \n",
       "160988                 POOLE RESOURCING LTD                        Sales Jobs   \n",
       "43275           Parity Resourcing Solutions                           IT Jobs   \n",
       "93389            Quest Search and Selection                       Retail Jobs   \n",
       "209833                       Fawkes & Reece         Trade & Construction Jobs   \n",
       "27772                                   NaN                        Legal Jobs   \n",
       "132123                    Capita Resourcing                  Engineering Jobs   \n",
       "242853               CoreTalent Recruitment                Manufacturing Jobs   \n",
       "25529                                   NaN                           IT Jobs   \n",
       "\n",
       "                                                SalaryRaw  SalaryNormalized  \\\n",
       "573                                     22 to 27 per hour             47040   \n",
       "107373  45000 - 55000 per annum + Car, Bonus, Pension,...             50000   \n",
       "138386                           48.00 - 53.00 GBP Hourly             96960   \n",
       "137207                            75000 - 85000 per annum             80000   \n",
       "142799                    35000 - 55000/annum Health Care             45000   \n",
       "167249                                  Up to 540 per day            129600   \n",
       "91290                  40000 - 45000 per annum + Benefits             42500   \n",
       "81452                                               50000             50000   \n",
       "116705                      45k to 60k + bonus + benefits             52500   \n",
       "137539               45000 - 55000 per annum + NEGOTIABLE             50000   \n",
       "113237     80k - 90k pa + full corporate benefits package             85000   \n",
       "200504                                    375 - 390 p day             91800   \n",
       "50971       35000 - 50000 per annum + FANTASTIC PROSPECTS             42500   \n",
       "115849     70000 - 90000/annum Excellent Benefits Package             80000   \n",
       "170043     45000 - 48000 per annum + Car, Health, Pension             46500   \n",
       "182080                                  250 - 300 per day             66000   \n",
       "88422                                50,000-74,999 yearly             62499   \n",
       "159350  40000 - 45000 per annum + Car Allowance,Health...             42500   \n",
       "61925                             60000 - 70000 per annum             65000   \n",
       "189357                     From 49,000 to 49,000 per year             49000   \n",
       "156385                       60000 - 80000 UK Pounds/year             70000   \n",
       "63447                      Up to 49,000 per annum + Bonus             49000   \n",
       "226186                  40000 - 50000 per annum + Package             45000   \n",
       "141798       From 65,000 to 65,000 per year + Competitive             65000   \n",
       "15931                                               75000             75000   \n",
       "177153                                              60000             60000   \n",
       "53819                             40000 - 45000 per annum             42500   \n",
       "58229                   45,000 + car + excellent benefits             45000   \n",
       "91827                                 33 - 33.50 per hour             63840   \n",
       "103983                                76000.00 GBP Annual             76000   \n",
       "...                                                   ...               ...   \n",
       "90451                                               50000             50000   \n",
       "61518          From 40,000 to 45,000 per annum + Benefits             42500   \n",
       "165508                                          40k - 50k             45000   \n",
       "85641                      45000 - 70000/annum + Benefits             57500   \n",
       "105594                               75,000-99,999 yearly             87499   \n",
       "34263                       40000.00 - 55000.00 per annum             47500   \n",
       "32190                                            c.70,000             70000   \n",
       "27730                              Up to 53000 + Benefits             53000   \n",
       "200782                                             45k pa             45000   \n",
       "242451   70000.00 - 80000.00 GBP Annual + From 70,000 to              75000   \n",
       "184962  60000.00 - 65000.00 per annum + 130k ote, heal...             62500   \n",
       "184087                               50,000-74,999 yearly             62499   \n",
       "45045                                  18.00 - 35.00/Hour             50880   \n",
       "134934                    50000 - 60000 per annum + bonus             55000   \n",
       "94924                      From 50,000 to 75,000 per year             62500   \n",
       "70491                              45000 -50000 per annum             47500   \n",
       "158115  from 46,000 to 60,000 plus 30% cash and benefi...             53000   \n",
       "39394            40000 - 45000 per annum + GREAT benefits             42500   \n",
       "92413   35000.00 - 55000.00 per annum + pension, healt...             45000   \n",
       "181488                              45000-55000 Per Annum             50000   \n",
       "177814                      45000.00 per annum + Benefits             45000   \n",
       "205687                                       20 - 40/hour             57600   \n",
       "160988  From 50,000 to 55,000 per annum +OTE +Car Allo...             52500   \n",
       "43275                             300.00 - 340.00 GBP Day             76800   \n",
       "93389                  40000 - 50000 per annum + Benefits             45000   \n",
       "209833                  50000 - 65000 per annum + package             57500   \n",
       "27772                                           To 85,000             42500   \n",
       "132123                                       30 - 35/hour             62400   \n",
       "242853                  40k - 45k pa + Excellent Benefits             42500   \n",
       "25529                                               45000             45000   \n",
       "\n",
       "                        SourceName  High  \n",
       "573                 careworx.co.uk   1.0  \n",
       "107373               totaljobs.com   1.0  \n",
       "138386                   jobg8.com   1.0  \n",
       "137207    access-sciencejobs.co.uk   1.0  \n",
       "142799            cv-library.co.uk   1.0  \n",
       "167249                cwjobs.co.uk   1.0  \n",
       "91290                totaljobs.com   1.0  \n",
       "81452         britishjobsonthe.net   1.0  \n",
       "116705         theitjobboard.co.uk   1.0  \n",
       "137539           legalweekjobs.com   1.0  \n",
       "113237            londonjobs.co.uk   1.0  \n",
       "200504               jobsite.co.uk   1.0  \n",
       "50971          theitjobboard.co.uk   1.0  \n",
       "115849            cv-library.co.uk   1.0  \n",
       "170043        jobs.telegraph.co.uk   1.0  \n",
       "182080         careerstructure.com   1.0  \n",
       "88422             theladders.co.uk   1.0  \n",
       "159350           salestarget.co.uk   1.0  \n",
       "61925                totaljobs.com   1.0  \n",
       "189357                 fish4.co.uk   1.0  \n",
       "156385              OilCareers.com   1.0  \n",
       "63447                totaljobs.com   1.0  \n",
       "226186               totaljobs.com   1.0  \n",
       "141798                     GAAPweb   1.0  \n",
       "15931             technojobs.co.uk   1.0  \n",
       "177153            technojobs.co.uk   1.0  \n",
       "53819                totaljobs.com   1.0  \n",
       "58229                totaljobs.com   1.0  \n",
       "91827                totaljobs.com   1.0  \n",
       "103983                   jobg8.com   1.0  \n",
       "...                            ...   ...  \n",
       "90451                totaljobs.com   1.0  \n",
       "61518                totaljobs.com   1.0  \n",
       "165508   simplymarketingjobs.co.uk   1.0  \n",
       "85641             cv-library.co.uk   1.0  \n",
       "105594            theladders.co.uk   1.0  \n",
       "34263               jobsinrisk.com   1.0  \n",
       "32190                totaljobs.com   1.0  \n",
       "27730                   hays.co.uk   1.0  \n",
       "200782               jobsite.co.uk   1.0  \n",
       "242451               jobsite.co.uk   1.0  \n",
       "184962           salestarget.co.uk   1.0  \n",
       "184087            theladders.co.uk   1.0  \n",
       "45045               staffnurse.com   1.0  \n",
       "134934               totaljobs.com   1.0  \n",
       "94924                  fish4.co.uk   1.0  \n",
       "70491            gojobsearch.co.uk   1.0  \n",
       "158115           eFinancialCareers   1.0  \n",
       "39394          Brand Republic Jobs   1.0  \n",
       "92413                totaljobs.com   1.0  \n",
       "181488                      Jobs24   1.0  \n",
       "177814  jobs.electronicsweekly.com   1.0  \n",
       "205687            cv-library.co.uk   1.0  \n",
       "160988               totaljobs.com   1.0  \n",
       "43275                 jobserve.com   1.0  \n",
       "93389             retailchoice.com   1.0  \n",
       "209833         careerstructure.com   1.0  \n",
       "27772                   hays.co.uk   1.0  \n",
       "132123            cv-library.co.uk   1.0  \n",
       "242853               jobsite.co.uk   1.0  \n",
       "25529         britishjobsonthe.net   1.0  \n",
       "\n",
       "[7500 rows x 13 columns]"
      ]
     },
     "execution_count": 32,
     "metadata": {},
     "output_type": "execute_result"
    }
   ],
   "source": [
    "sample_highsalary"
   ]
  },
  {
   "cell_type": "code",
   "execution_count": 33,
   "metadata": {
    "collapsed": true
   },
   "outputs": [],
   "source": [
    "Low_Mask = salary_data['High'] == 0"
   ]
  },
  {
   "cell_type": "code",
   "execution_count": 34,
   "metadata": {
    "collapsed": true
   },
   "outputs": [],
   "source": [
    "lowsalary = salary_data[Low_Mask]"
   ]
  },
  {
   "cell_type": "code",
   "execution_count": 35,
   "metadata": {
    "collapsed": true
   },
   "outputs": [],
   "source": [
    "sample_lowsalary = lowsalary.sample(7500, replace=False).copy()"
   ]
  },
  {
   "cell_type": "code",
   "execution_count": 36,
   "metadata": {
    "collapsed": true
   },
   "outputs": [],
   "source": [
    "sample = sample_highsalary.append(sample_lowsalary, ignore_index=False, verify_integrity=True)"
   ]
  },
  {
   "cell_type": "code",
   "execution_count": 93,
   "metadata": {
    "collapsed": false
   },
   "outputs": [
    {
     "data": {
      "text/html": [
       "<div>\n",
       "<table border=\"1\" class=\"dataframe\">\n",
       "  <thead>\n",
       "    <tr style=\"text-align: right;\">\n",
       "      <th></th>\n",
       "      <th>Id</th>\n",
       "      <th>Title</th>\n",
       "      <th>FullDescription</th>\n",
       "      <th>LocationRaw</th>\n",
       "      <th>LocationNormalized</th>\n",
       "      <th>ContractType</th>\n",
       "      <th>ContractTime</th>\n",
       "      <th>Company</th>\n",
       "      <th>Category</th>\n",
       "      <th>SalaryRaw</th>\n",
       "      <th>SalaryNormalized</th>\n",
       "      <th>SourceName</th>\n",
       "      <th>High</th>\n",
       "    </tr>\n",
       "  </thead>\n",
       "  <tbody>\n",
       "    <tr>\n",
       "      <th>573</th>\n",
       "      <td>46629484</td>\n",
       "      <td>Mental Health Pharmacist Band 7 Cheshire</td>\n",
       "      <td>PULSE Staffing has an opportunity available in...</td>\n",
       "      <td>Cheshire</td>\n",
       "      <td>Cheshire</td>\n",
       "      <td>full_time</td>\n",
       "      <td>NaN</td>\n",
       "      <td>NaN</td>\n",
       "      <td>Healthcare &amp; Nursing Jobs</td>\n",
       "      <td>22 to 27 per hour</td>\n",
       "      <td>47040</td>\n",
       "      <td>careworx.co.uk</td>\n",
       "      <td>1.0</td>\n",
       "    </tr>\n",
       "    <tr>\n",
       "      <th>107373</th>\n",
       "      <td>69597277</td>\n",
       "      <td>Chemicals Procurement Manager</td>\n",
       "      <td>Chemicals Procurement Manager  Fantastic Inter...</td>\n",
       "      <td>Cambridge Cambridgeshire East Anglia</td>\n",
       "      <td>UK</td>\n",
       "      <td>NaN</td>\n",
       "      <td>permanent</td>\n",
       "      <td>1st Executive Ltd</td>\n",
       "      <td>Other/General Jobs</td>\n",
       "      <td>45000 - 55000 per annum + Car, Bonus, Pension,...</td>\n",
       "      <td>50000</td>\n",
       "      <td>totaljobs.com</td>\n",
       "      <td>1.0</td>\n",
       "    </tr>\n",
       "    <tr>\n",
       "      <th>138386</th>\n",
       "      <td>70445011</td>\n",
       "      <td>SHO Acute Medicine  North West</td>\n",
       "      <td>SHO Acute Medicine Start date: ****/****/**** ...</td>\n",
       "      <td>North</td>\n",
       "      <td>North Finchley</td>\n",
       "      <td>NaN</td>\n",
       "      <td>contract</td>\n",
       "      <td>National Locums</td>\n",
       "      <td>Healthcare &amp; Nursing Jobs</td>\n",
       "      <td>48.00 - 53.00 GBP Hourly</td>\n",
       "      <td>96960</td>\n",
       "      <td>jobg8.com</td>\n",
       "      <td>1.0</td>\n",
       "    </tr>\n",
       "    <tr>\n",
       "      <th>137207</th>\n",
       "      <td>70384614</td>\n",
       "      <td>HEOR Manager  Strong line management position</td>\n",
       "      <td>My client, one of the most recognisable names ...</td>\n",
       "      <td>Hertfordshire</td>\n",
       "      <td>Hertfordshire</td>\n",
       "      <td>NaN</td>\n",
       "      <td>NaN</td>\n",
       "      <td>NonStop Pharma Recruitment</td>\n",
       "      <td>Scientific &amp; QA Jobs</td>\n",
       "      <td>75000 - 85000 per annum</td>\n",
       "      <td>80000</td>\n",
       "      <td>access-sciencejobs.co.uk</td>\n",
       "      <td>1.0</td>\n",
       "    </tr>\n",
       "    <tr>\n",
       "      <th>142799</th>\n",
       "      <td>70607718</td>\n",
       "      <td>Project Development Engineer</td>\n",
       "      <td>Operations Process  Project Development Engine...</td>\n",
       "      <td>Surrey</td>\n",
       "      <td>Surrey</td>\n",
       "      <td>NaN</td>\n",
       "      <td>permanent</td>\n",
       "      <td>Prime Time Recruitment</td>\n",
       "      <td>Engineering Jobs</td>\n",
       "      <td>35000 - 55000/annum Health Care</td>\n",
       "      <td>45000</td>\n",
       "      <td>cv-library.co.uk</td>\n",
       "      <td>1.0</td>\n",
       "    </tr>\n",
       "    <tr>\n",
       "      <th>167249</th>\n",
       "      <td>71305557</td>\n",
       "      <td>Programme Manager, Siebel, CRM, Oracle</td>\n",
       "      <td>Programme Manager, Siebel, CRM, Oracle My clie...</td>\n",
       "      <td>Central London / West End London South East</td>\n",
       "      <td>London</td>\n",
       "      <td>NaN</td>\n",
       "      <td>contract</td>\n",
       "      <td>Haybrook IT Resourcing Ltd</td>\n",
       "      <td>IT Jobs</td>\n",
       "      <td>Up to 540 per day</td>\n",
       "      <td>129600</td>\n",
       "      <td>cwjobs.co.uk</td>\n",
       "      <td>1.0</td>\n",
       "    </tr>\n",
       "    <tr>\n",
       "      <th>91290</th>\n",
       "      <td>69170682</td>\n",
       "      <td>Continous Improvement Manager</td>\n",
       "      <td>Continuous Improvement Manager Job description...</td>\n",
       "      <td>Milton Keynes Buckinghamshire South East</td>\n",
       "      <td>Milton Keynes</td>\n",
       "      <td>NaN</td>\n",
       "      <td>permanent</td>\n",
       "      <td>Synergi Search &amp; Selection</td>\n",
       "      <td>Retail Jobs</td>\n",
       "      <td>40000 - 45000 per annum + Benefits</td>\n",
       "      <td>42500</td>\n",
       "      <td>totaljobs.com</td>\n",
       "      <td>1.0</td>\n",
       "    </tr>\n",
       "    <tr>\n",
       "      <th>81452</th>\n",
       "      <td>69026323</td>\n",
       "      <td>Senior Sharepoint Developer (Sharepoint 2010, ...</td>\n",
       "      <td>Senior Sharepoint Developer (Sharepoint 20****...</td>\n",
       "      <td>W1B 1LU, England</td>\n",
       "      <td>Fitzrovia</td>\n",
       "      <td>NaN</td>\n",
       "      <td>NaN</td>\n",
       "      <td>NaN</td>\n",
       "      <td>IT Jobs</td>\n",
       "      <td>50000</td>\n",
       "      <td>50000</td>\n",
       "      <td>britishjobsonthe.net</td>\n",
       "      <td>1.0</td>\n",
       "    </tr>\n",
       "    <tr>\n",
       "      <th>116705</th>\n",
       "      <td>69793908</td>\n",
       "      <td>C++ Developer  Mobile Games</td>\n",
       "      <td>Job Role: C++ Games DeveloperLocation: London,...</td>\n",
       "      <td>London</td>\n",
       "      <td>London</td>\n",
       "      <td>NaN</td>\n",
       "      <td>permanent</td>\n",
       "      <td>NaN</td>\n",
       "      <td>IT Jobs</td>\n",
       "      <td>45k to 60k + bonus + benefits</td>\n",
       "      <td>52500</td>\n",
       "      <td>theitjobboard.co.uk</td>\n",
       "      <td>1.0</td>\n",
       "    </tr>\n",
       "    <tr>\n",
       "      <th>137539</th>\n",
       "      <td>70411373</td>\n",
       "      <td>PROPERTY LITIGATION LAWYER ****PQE  BUCKINGHAM...</td>\n",
       "      <td>THE FIRM Our client is a leading regional firm...</td>\n",
       "      <td>Buckinghamshire</td>\n",
       "      <td>Buckinghamshire</td>\n",
       "      <td>NaN</td>\n",
       "      <td>permanent</td>\n",
       "      <td>Lipson Lloyd Jones   London</td>\n",
       "      <td>Legal Jobs</td>\n",
       "      <td>45000 - 55000 per annum + NEGOTIABLE</td>\n",
       "      <td>50000</td>\n",
       "      <td>legalweekjobs.com</td>\n",
       "      <td>1.0</td>\n",
       "    </tr>\n",
       "  </tbody>\n",
       "</table>\n",
       "</div>"
      ],
      "text/plain": [
       "              Id                                              Title  \\\n",
       "573     46629484           Mental Health Pharmacist Band 7 Cheshire   \n",
       "107373  69597277                      Chemicals Procurement Manager   \n",
       "138386  70445011                     SHO Acute Medicine  North West   \n",
       "137207  70384614      HEOR Manager  Strong line management position   \n",
       "142799  70607718                       Project Development Engineer   \n",
       "167249  71305557             Programme Manager, Siebel, CRM, Oracle   \n",
       "91290   69170682                      Continous Improvement Manager   \n",
       "81452   69026323  Senior Sharepoint Developer (Sharepoint 2010, ...   \n",
       "116705  69793908                        C++ Developer  Mobile Games   \n",
       "137539  70411373  PROPERTY LITIGATION LAWYER ****PQE  BUCKINGHAM...   \n",
       "\n",
       "                                          FullDescription  \\\n",
       "573     PULSE Staffing has an opportunity available in...   \n",
       "107373  Chemicals Procurement Manager  Fantastic Inter...   \n",
       "138386  SHO Acute Medicine Start date: ****/****/**** ...   \n",
       "137207  My client, one of the most recognisable names ...   \n",
       "142799  Operations Process  Project Development Engine...   \n",
       "167249  Programme Manager, Siebel, CRM, Oracle My clie...   \n",
       "91290   Continuous Improvement Manager Job description...   \n",
       "81452   Senior Sharepoint Developer (Sharepoint 20****...   \n",
       "116705  Job Role: C++ Games DeveloperLocation: London,...   \n",
       "137539  THE FIRM Our client is a leading regional firm...   \n",
       "\n",
       "                                        LocationRaw LocationNormalized  \\\n",
       "573                                        Cheshire           Cheshire   \n",
       "107373         Cambridge Cambridgeshire East Anglia                 UK   \n",
       "138386                                        North     North Finchley   \n",
       "137207                                Hertfordshire      Hertfordshire   \n",
       "142799                                       Surrey             Surrey   \n",
       "167249  Central London / West End London South East             London   \n",
       "91290      Milton Keynes Buckinghamshire South East      Milton Keynes   \n",
       "81452                              W1B 1LU, England          Fitzrovia   \n",
       "116705                                       London             London   \n",
       "137539                              Buckinghamshire    Buckinghamshire   \n",
       "\n",
       "       ContractType ContractTime                      Company  \\\n",
       "573       full_time          NaN                          NaN   \n",
       "107373          NaN    permanent            1st Executive Ltd   \n",
       "138386          NaN     contract              National Locums   \n",
       "137207          NaN          NaN   NonStop Pharma Recruitment   \n",
       "142799          NaN    permanent       Prime Time Recruitment   \n",
       "167249          NaN     contract   Haybrook IT Resourcing Ltd   \n",
       "91290           NaN    permanent   Synergi Search & Selection   \n",
       "81452           NaN          NaN                          NaN   \n",
       "116705          NaN    permanent                          NaN   \n",
       "137539          NaN    permanent  Lipson Lloyd Jones   London   \n",
       "\n",
       "                         Category  \\\n",
       "573     Healthcare & Nursing Jobs   \n",
       "107373         Other/General Jobs   \n",
       "138386  Healthcare & Nursing Jobs   \n",
       "137207       Scientific & QA Jobs   \n",
       "142799           Engineering Jobs   \n",
       "167249                    IT Jobs   \n",
       "91290                 Retail Jobs   \n",
       "81452                     IT Jobs   \n",
       "116705                    IT Jobs   \n",
       "137539                 Legal Jobs   \n",
       "\n",
       "                                                SalaryRaw  SalaryNormalized  \\\n",
       "573                                     22 to 27 per hour             47040   \n",
       "107373  45000 - 55000 per annum + Car, Bonus, Pension,...             50000   \n",
       "138386                           48.00 - 53.00 GBP Hourly             96960   \n",
       "137207                            75000 - 85000 per annum             80000   \n",
       "142799                    35000 - 55000/annum Health Care             45000   \n",
       "167249                                  Up to 540 per day            129600   \n",
       "91290                  40000 - 45000 per annum + Benefits             42500   \n",
       "81452                                               50000             50000   \n",
       "116705                      45k to 60k + bonus + benefits             52500   \n",
       "137539               45000 - 55000 per annum + NEGOTIABLE             50000   \n",
       "\n",
       "                      SourceName  High  \n",
       "573               careworx.co.uk   1.0  \n",
       "107373             totaljobs.com   1.0  \n",
       "138386                 jobg8.com   1.0  \n",
       "137207  access-sciencejobs.co.uk   1.0  \n",
       "142799          cv-library.co.uk   1.0  \n",
       "167249              cwjobs.co.uk   1.0  \n",
       "91290              totaljobs.com   1.0  \n",
       "81452       britishjobsonthe.net   1.0  \n",
       "116705       theitjobboard.co.uk   1.0  \n",
       "137539         legalweekjobs.com   1.0  "
      ]
     },
     "execution_count": 93,
     "metadata": {},
     "output_type": "execute_result"
    }
   ],
   "source": [
    "sample[:10]"
   ]
  },
  {
   "cell_type": "code",
   "execution_count": 38,
   "metadata": {
    "collapsed": false
   },
   "outputs": [
    {
     "name": "stderr",
     "output_type": "stream",
     "text": [
      "/Users/anthonygarino/Desktop/anaconda/lib/python2.7/site-packages/pandas/core/generic.py:2572: VisibleDeprecationWarning: using a non-integer number instead of an integer will result in an error in the future\n",
      "  locs = rs.choice(axis_length, size=n, replace=replace, p=weights)\n"
     ]
    }
   ],
   "source": [
    "train = sample.sample(0.6*len(sample), replace=False).copy()"
   ]
  },
  {
   "cell_type": "code",
   "execution_count": 39,
   "metadata": {
    "collapsed": true
   },
   "outputs": [],
   "source": [
    "test = sample[~sample.index.isin(train.index.values)]"
   ]
  },
  {
   "cell_type": "code",
   "execution_count": 40,
   "metadata": {
    "collapsed": true
   },
   "outputs": [],
   "source": [
    "train_x = train['FullDescription']\n",
    "train_y = train['High']\n",
    "\n",
    "test_x = test['FullDescription']\n",
    "test_y = test['High']"
   ]
  },
  {
   "cell_type": "code",
   "execution_count": 41,
   "metadata": {
    "collapsed": true
   },
   "outputs": [],
   "source": [
    "vectorizer = TfidfVectorizer(min_df=2, smooth_idf=True, strip_accents='unicode', norm='l2')"
   ]
  },
  {
   "cell_type": "code",
   "execution_count": 42,
   "metadata": {
    "collapsed": true
   },
   "outputs": [],
   "source": [
    "all_train_x = vectorizer.fit_transform(train_x)\n",
    "all_test_x = vectorizer.transform(test_x)"
   ]
  },
  {
   "cell_type": "code",
   "execution_count": 43,
   "metadata": {
    "collapsed": true
   },
   "outputs": [],
   "source": [
    "all_nb_classifier = MultinomialNB().fit(all_train_x, train_y)"
   ]
  },
  {
   "cell_type": "code",
   "execution_count": 44,
   "metadata": {
    "collapsed": true
   },
   "outputs": [],
   "source": [
    "all_y_nb_predicted = all_nb_classifier.predict(all_test_x)"
   ]
  },
  {
   "cell_type": "code",
   "execution_count": 45,
   "metadata": {
    "collapsed": false
   },
   "outputs": [
    {
     "data": {
      "text/plain": [
       "array([[2258,  816],\n",
       "       [ 426, 2500]])"
      ]
     },
     "execution_count": 45,
     "metadata": {},
     "output_type": "execute_result"
    }
   ],
   "source": [
    "metrics.confusion_matrix(test_y, all_y_nb_predicted)"
   ]
  },
  {
   "cell_type": "code",
   "execution_count": 46,
   "metadata": {
    "collapsed": true
   },
   "outputs": [],
   "source": [
    "all_predict_y = Series(all_y_nb_predicted).reset_index()"
   ]
  },
  {
   "cell_type": "code",
   "execution_count": 47,
   "metadata": {
    "collapsed": true
   },
   "outputs": [],
   "source": [
    "all_predict_y = all_predict_y[0]"
   ]
  },
  {
   "cell_type": "code",
   "execution_count": 48,
   "metadata": {
    "collapsed": true
   },
   "outputs": [],
   "source": [
    "all_df = pd.DataFrame()"
   ]
  },
  {
   "cell_type": "code",
   "execution_count": 49,
   "metadata": {
    "collapsed": true
   },
   "outputs": [],
   "source": [
    "all_df['Predicted'] = all_predict_y"
   ]
  },
  {
   "cell_type": "code",
   "execution_count": 50,
   "metadata": {
    "collapsed": true
   },
   "outputs": [],
   "source": [
    "all_df['Actual'] = test_y.reset_index()['High']"
   ]
  },
  {
   "cell_type": "code",
   "execution_count": 51,
   "metadata": {
    "collapsed": false
   },
   "outputs": [
    {
     "data": {
      "text/html": [
       "<div>\n",
       "<table border=\"1\" class=\"dataframe\">\n",
       "  <thead>\n",
       "    <tr style=\"text-align: right;\">\n",
       "      <th>Predicted</th>\n",
       "      <th>0.0</th>\n",
       "      <th>1.0</th>\n",
       "    </tr>\n",
       "    <tr>\n",
       "      <th>Actual</th>\n",
       "      <th></th>\n",
       "      <th></th>\n",
       "    </tr>\n",
       "  </thead>\n",
       "  <tbody>\n",
       "    <tr>\n",
       "      <th>0.0</th>\n",
       "      <td>2258</td>\n",
       "      <td>816</td>\n",
       "    </tr>\n",
       "    <tr>\n",
       "      <th>1.0</th>\n",
       "      <td>426</td>\n",
       "      <td>2500</td>\n",
       "    </tr>\n",
       "  </tbody>\n",
       "</table>\n",
       "</div>"
      ],
      "text/plain": [
       "Predicted   0.0   1.0\n",
       "Actual               \n",
       "0.0        2258   816\n",
       "1.0         426  2500"
      ]
     },
     "execution_count": 51,
     "metadata": {},
     "output_type": "execute_result"
    }
   ],
   "source": [
    "pd.crosstab(index=all_df['Actual'], columns=all_df['Predicted'])"
   ]
  },
  {
   "cell_type": "code",
   "execution_count": 52,
   "metadata": {
    "collapsed": false
   },
   "outputs": [
    {
     "data": {
      "text/html": [
       "<div>\n",
       "<table border=\"1\" class=\"dataframe\">\n",
       "  <thead>\n",
       "    <tr style=\"text-align: right;\">\n",
       "      <th>Predicted</th>\n",
       "      <th>0.0</th>\n",
       "      <th>1.0</th>\n",
       "    </tr>\n",
       "    <tr>\n",
       "      <th>Actual</th>\n",
       "      <th></th>\n",
       "      <th></th>\n",
       "    </tr>\n",
       "  </thead>\n",
       "  <tbody>\n",
       "    <tr>\n",
       "      <th>0.0</th>\n",
       "      <td>0.734548</td>\n",
       "      <td>0.265452</td>\n",
       "    </tr>\n",
       "    <tr>\n",
       "      <th>1.0</th>\n",
       "      <td>0.145591</td>\n",
       "      <td>0.854409</td>\n",
       "    </tr>\n",
       "  </tbody>\n",
       "</table>\n",
       "</div>"
      ],
      "text/plain": [
       "Predicted       0.0       1.0\n",
       "Actual                       \n",
       "0.0        0.734548  0.265452\n",
       "1.0        0.145591  0.854409"
      ]
     },
     "execution_count": 52,
     "metadata": {},
     "output_type": "execute_result"
    }
   ],
   "source": [
    "pd.crosstab(index=all_df['Actual'], columns=all_df['Predicted']).apply(lambda r: r/r.sum(), axis=1)"
   ]
  },
  {
   "cell_type": "code",
   "execution_count": 53,
   "metadata": {
    "collapsed": false
   },
   "outputs": [
    {
     "data": {
      "text/plain": [
       "0.79300000000000004"
      ]
     },
     "execution_count": 53,
     "metadata": {},
     "output_type": "execute_result"
    }
   ],
   "source": [
    "(all_df['Predicted'] == all_df['Actual']).mean()"
   ]
  },
  {
   "cell_type": "markdown",
   "metadata": {},
   "source": [
    "# B2"
   ]
  },
  {
   "cell_type": "code",
   "execution_count": 54,
   "metadata": {
    "collapsed": true
   },
   "outputs": [],
   "source": [
    "class LemmaTokenizer(object):\n",
    "    def __init__(self):\n",
    "        self.wnl = WordNetLemmatizer()\n",
    "    def __call__(self, doc):\n",
    "        return [self.wnl.lemmatize(t) for t in word_tokenize(doc)]"
   ]
  },
  {
   "cell_type": "code",
   "execution_count": 55,
   "metadata": {
    "collapsed": true
   },
   "outputs": [],
   "source": [
    "lemma_vectorizer = TfidfVectorizer(min_df=0, smooth_idf=True, strip_accents='unicode', norm='l2', tokenizer=LemmaTokenizer())"
   ]
  },
  {
   "cell_type": "code",
   "execution_count": 56,
   "metadata": {
    "collapsed": false
   },
   "outputs": [],
   "source": [
    "lemma_train_x = lemma_vectorizer.fit_transform(train_x)\n",
    "lemma_test_x = lemma_vectorizer.transform(test_x)"
   ]
  },
  {
   "cell_type": "code",
   "execution_count": 57,
   "metadata": {
    "collapsed": true
   },
   "outputs": [],
   "source": [
    "lemma_naivebayes_classifier = MultinomialNB().fit(lemma_train_x, train_y)"
   ]
  },
  {
   "cell_type": "code",
   "execution_count": 58,
   "metadata": {
    "collapsed": false
   },
   "outputs": [],
   "source": [
    "lemma_y_naivebayes_predicted = lemma_naivebayes_classifier.predict(lemma_test_x)"
   ]
  },
  {
   "cell_type": "code",
   "execution_count": 59,
   "metadata": {
    "collapsed": false
   },
   "outputs": [],
   "source": [
    "lemma_predict_y = Series(lemma_y_naivebayes_predicted).reset_index()\n",
    "lemma_predict_y = lemma_predict_y[0]"
   ]
  },
  {
   "cell_type": "code",
   "execution_count": 60,
   "metadata": {
    "collapsed": false
   },
   "outputs": [
    {
     "data": {
      "text/html": [
       "<div>\n",
       "<table border=\"1\" class=\"dataframe\">\n",
       "  <thead>\n",
       "    <tr style=\"text-align: right;\">\n",
       "      <th>Predicted</th>\n",
       "      <th>0.0</th>\n",
       "      <th>1.0</th>\n",
       "    </tr>\n",
       "    <tr>\n",
       "      <th>Actual</th>\n",
       "      <th></th>\n",
       "      <th></th>\n",
       "    </tr>\n",
       "  </thead>\n",
       "  <tbody>\n",
       "    <tr>\n",
       "      <th>0.0</th>\n",
       "      <td>2200</td>\n",
       "      <td>874</td>\n",
       "    </tr>\n",
       "    <tr>\n",
       "      <th>1.0</th>\n",
       "      <td>380</td>\n",
       "      <td>2546</td>\n",
       "    </tr>\n",
       "  </tbody>\n",
       "</table>\n",
       "</div>"
      ],
      "text/plain": [
       "Predicted   0.0   1.0\n",
       "Actual               \n",
       "0.0        2200   874\n",
       "1.0         380  2546"
      ]
     },
     "execution_count": 60,
     "metadata": {},
     "output_type": "execute_result"
    }
   ],
   "source": [
    "lemma_df = pd.DataFrame()\n",
    "lemma_df['Predicted'] = lemma_predict_y\n",
    "lemma_df['Actual'] = test_y.reset_index()['High']\n",
    "pd.crosstab(index=lemma_df['Actual'], columns=lemma_df['Predicted'])"
   ]
  },
  {
   "cell_type": "code",
   "execution_count": 61,
   "metadata": {
    "collapsed": false
   },
   "outputs": [
    {
     "data": {
      "text/html": [
       "<div>\n",
       "<table border=\"1\" class=\"dataframe\">\n",
       "  <thead>\n",
       "    <tr style=\"text-align: right;\">\n",
       "      <th>Predicted</th>\n",
       "      <th>0.0</th>\n",
       "      <th>1.0</th>\n",
       "    </tr>\n",
       "    <tr>\n",
       "      <th>Actual</th>\n",
       "      <th></th>\n",
       "      <th></th>\n",
       "    </tr>\n",
       "  </thead>\n",
       "  <tbody>\n",
       "    <tr>\n",
       "      <th>0.0</th>\n",
       "      <td>0.71568</td>\n",
       "      <td>0.28432</td>\n",
       "    </tr>\n",
       "    <tr>\n",
       "      <th>1.0</th>\n",
       "      <td>0.12987</td>\n",
       "      <td>0.87013</td>\n",
       "    </tr>\n",
       "  </tbody>\n",
       "</table>\n",
       "</div>"
      ],
      "text/plain": [
       "Predicted      0.0      1.0\n",
       "Actual                     \n",
       "0.0        0.71568  0.28432\n",
       "1.0        0.12987  0.87013"
      ]
     },
     "execution_count": 61,
     "metadata": {},
     "output_type": "execute_result"
    }
   ],
   "source": [
    "pd.crosstab(index=lemma_df['Actual'], columns=lemma_df['Predicted']).apply(lambda r: r/r.sum(), axis=1)"
   ]
  },
  {
   "cell_type": "code",
   "execution_count": 62,
   "metadata": {
    "collapsed": false
   },
   "outputs": [
    {
     "data": {
      "text/plain": [
       "0.79100000000000004"
      ]
     },
     "execution_count": 62,
     "metadata": {},
     "output_type": "execute_result"
    }
   ],
   "source": [
    "(lemma_df['Predicted'] == lemma_df['Actual']).mean()"
   ]
  },
  {
   "cell_type": "markdown",
   "metadata": {
    "collapsed": true
   },
   "source": [
    "# B4"
   ]
  },
  {
   "cell_type": "code",
   "execution_count": 63,
   "metadata": {
    "collapsed": true
   },
   "outputs": [],
   "source": [
    "class posBigram(object):\n",
    "    def __init__(self):\n",
    "        pass\n",
    "    def __call__(self,doc):\n",
    "      return nltk.Text(nltk.bigrams([i[1] for i in nltk.pos_tag(nltk.word_tokenize(doc))]))"
   ]
  },
  {
   "cell_type": "code",
   "execution_count": 70,
   "metadata": {
    "collapsed": false
   },
   "outputs": [],
   "source": [
    "pos_bigram_vectoriser = TfidfVectorizer(min_df=0, smooth_idf=True, strip_accents='unicode', norm='l2', tokenizer=posBigram())"
   ]
  },
  {
   "cell_type": "code",
   "execution_count": 71,
   "metadata": {
    "collapsed": false
   },
   "outputs": [],
   "source": [
    "pos_bigram_train_x = pos_bigram_vectoriser.fit_transform(train_x) "
   ]
  },
  {
   "cell_type": "code",
   "execution_count": 72,
   "metadata": {
    "collapsed": true
   },
   "outputs": [],
   "source": [
    "pos_bigram_naivebayes_classifier = MultinomialNB().fit(pos_bigram_train_x, train_y)"
   ]
  },
  {
   "cell_type": "code",
   "execution_count": 74,
   "metadata": {
    "collapsed": false
   },
   "outputs": [],
   "source": [
    "pos_bigram_test_x = pos_bigram_vectoriser.transform(test_x)"
   ]
  },
  {
   "cell_type": "code",
   "execution_count": 75,
   "metadata": {
    "collapsed": true
   },
   "outputs": [],
   "source": [
    "pos_bigram_y_naivebayes_predicted = pos_bigram_naivebayes_classifier.predict(pos_bigram_test_x)"
   ]
  },
  {
   "cell_type": "code",
   "execution_count": null,
   "metadata": {
    "collapsed": false
   },
   "outputs": [],
   "source": [
    "pos_bigram_test_x = pos_bigram_vectoriser.transform(test_x)\n",
    "pos_bigram_y_naivebayes_predicted = pos_bigram_naivebayes_classifier.predict(pos_bigram_test_x)\n",
    "pos_bigram_df = pd.DataFrame()\n",
    "pos_bigram_df['Predicted'] = pos_bigram_predict_y \n",
    "pos_bigram_df['Actual'] = test_y.reset_index()['High']\n",
    "pd.crosstab(index=pos_bigram_df['Actual'], columns=pos_bigram_df['Predicted'])"
   ]
  },
  {
   "cell_type": "code",
   "execution_count": null,
   "metadata": {
    "collapsed": false,
    "scrolled": true
   },
   "outputs": [],
   "source": [
    "(pos_bigram_df['Predicted'] == pos_bigram_df['Actual']).mean()"
   ]
  },
  {
   "cell_type": "code",
   "execution_count": null,
   "metadata": {
    "collapsed": false
   },
   "outputs": [],
   "source": []
  },
  {
   "cell_type": "code",
   "execution_count": null,
   "metadata": {
    "collapsed": true
   },
   "outputs": [],
   "source": []
  }
 ],
 "metadata": {
  "anaconda-cloud": {},
  "kernelspec": {
   "display_name": "Python [Root]",
   "language": "python",
   "name": "Python [Root]"
  },
  "language_info": {
   "codemirror_mode": {
    "name": "ipython",
    "version": 2
   },
   "file_extension": ".py",
   "mimetype": "text/x-python",
   "name": "python",
   "nbconvert_exporter": "python",
   "pygments_lexer": "ipython2",
   "version": "2.7.12"
  }
 },
 "nbformat": 4,
 "nbformat_minor": 0
}
